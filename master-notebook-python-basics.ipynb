{
  "cells": [
    {
      "cell_type": "markdown",
      "source": "# Block 3: Datentypen\n\n## Zeichenketten / Strings",
      "metadata": {
        "tags": [],
        "cell_id": "00000-efa3a43a-50cc-4b9b-8ba8-553a9d47cda1",
        "deepnote_cell_type": "markdown"
      }
    },
    {
      "cell_type": "code",
      "metadata": {
        "tags": [],
        "cell_id": "00000-5153ccba-0398-4e3c-864b-d3afdd36b48d",
        "deepnote_to_be_reexecuted": false,
        "source_hash": "6dacbd1a",
        "execution_start": 1612966189331,
        "execution_millis": 5,
        "deepnote_cell_type": "code"
      },
      "source": "print(\"Hallo Welt!\")",
      "execution_count": null,
      "outputs": [
        {
          "name": "stdout",
          "text": "Hallo Welt!\n",
          "output_type": "stream"
        }
      ]
    },
    {
      "cell_type": "markdown",
      "source": "## Konkatenieren",
      "metadata": {
        "tags": [],
        "cell_id": "00002-07028a21-7a91-40b9-9cf2-25b6b5c391c7",
        "deepnote_cell_type": "markdown"
      }
    },
    {
      "cell_type": "code",
      "metadata": {
        "tags": [],
        "cell_id": "00002-3a7ecff7-83bb-4a64-918b-72adc96e149d",
        "deepnote_to_be_reexecuted": false,
        "source_hash": "e00000a1",
        "execution_start": 1612966219687,
        "execution_millis": 4,
        "deepnote_cell_type": "code"
      },
      "source": "print(\"Hallo \" + \"Welt!\")\n\nprint(\"Digital History Tagung \" + \"2021\")\n\nprint(\"foo\" * 2 + \"bar \" * 3)",
      "execution_count": null,
      "outputs": [
        {
          "name": "stdout",
          "text": "Hallo Welt!\nDigital History Tagung 2021\nfoofoobar bar bar \n",
          "output_type": "stream"
        }
      ]
    },
    {
      "cell_type": "markdown",
      "source": "## Variablen",
      "metadata": {
        "tags": [],
        "cell_id": "00004-003d0c22-7840-4f77-b25c-190f9cdbc6cc",
        "deepnote_cell_type": "markdown"
      }
    },
    {
      "cell_type": "code",
      "metadata": {
        "tags": [],
        "cell_id": "00004-d5e6db57-81fd-49ac-a8d0-57249ca46a4b",
        "deepnote_to_be_reexecuted": false,
        "source_hash": "e78c47f0",
        "execution_start": 1612966270985,
        "execution_millis": 0,
        "deepnote_cell_type": "code"
      },
      "source": "event = \"Digital History Tagung\"\nyear = 2021",
      "execution_count": null,
      "outputs": []
    },
    {
      "cell_type": "markdown",
      "source": "## f-Strings",
      "metadata": {
        "tags": [],
        "cell_id": "00006-e3e95dae-2d3c-4bd2-b05e-8394aa86de67",
        "deepnote_cell_type": "markdown"
      }
    },
    {
      "cell_type": "markdown",
      "source": "",
      "metadata": {
        "tags": [],
        "cell_id": "00007-c7398062-3a0a-4e17-8658-b4fe063c574b",
        "deepnote_cell_type": "markdown"
      }
    },
    {
      "cell_type": "code",
      "metadata": {
        "tags": [],
        "cell_id": "00008-16c0aef5-05da-47ca-8f89-d2f3a480170b",
        "deepnote_to_be_reexecuted": false,
        "source_hash": "ca24b454",
        "execution_start": 1612966290692,
        "execution_millis": 17,
        "deepnote_cell_type": "code"
      },
      "source": "print(f\"Die {event} findet {year} statt.\")\n\nprint(\"Die {} findet {} statt.\".format(event, year))",
      "execution_count": null,
      "outputs": [
        {
          "name": "stdout",
          "text": "Die Digital History Tagung findet 2021 statt.\nDie Digital History Tagung findet 2021 statt.\n",
          "output_type": "stream"
        }
      ]
    },
    {
      "cell_type": "markdown",
      "source": "## Funktionen und Methoden bei Strings",
      "metadata": {
        "tags": [],
        "cell_id": "00009-8931451d-56cb-449c-9147-9342f10382e4",
        "deepnote_cell_type": "markdown"
      }
    },
    {
      "cell_type": "code",
      "metadata": {
        "tags": [],
        "cell_id": "00010-14da993f-5b84-48b6-a34b-821bc9c90483",
        "deepnote_to_be_reexecuted": false,
        "source_hash": "f677ee1a",
        "execution_start": 1612966353308,
        "execution_millis": 9,
        "deepnote_cell_type": "code"
      },
      "source": "print(len(event))\n\nprint(len(\"Digital History Tagung\"))\n\nprint(event.lower())\n\nprint(\"Digital History Tagung\".upper())",
      "execution_count": null,
      "outputs": [
        {
          "name": "stdout",
          "text": "22\n22\ndigital history tagung\nDIGITAL HISTORY TAGUNG\n",
          "output_type": "stream"
        }
      ]
    },
    {
      "cell_type": "markdown",
      "source": "## Listen / Lists",
      "metadata": {
        "tags": [],
        "cell_id": "00010-f963d5c9-34b5-4d24-8838-a79895b4da20",
        "deepnote_cell_type": "markdown"
      }
    },
    {
      "cell_type": "code",
      "metadata": {
        "tags": [],
        "cell_id": "00012-ef68f56e-742e-4ede-bb08-18ec97d9b168",
        "deepnote_to_be_reexecuted": false,
        "source_hash": "e60dc2da",
        "execution_start": 1612966395163,
        "execution_millis": 1,
        "deepnote_cell_type": "code"
      },
      "source": "list_1 = [1, 2, 3, 4]\n\nlist_2 = [\"Banane\", \"Apfel\", \"Birne\"]\n\nlist_3 = [17, \"Obst\", 23, \"Ball\"]\n\nlist_4 = [[1, 2, 3,], [\"a\", \"b\", \"c\"], [\"Hallo\", \"Welt\"]]",
      "execution_count": null,
      "outputs": []
    },
    {
      "cell_type": "markdown",
      "source": "## Zuordnungen / Dictionaries",
      "metadata": {
        "tags": [],
        "cell_id": "00012-60d4fb23-61ba-4932-8302-00e6774a1eb4",
        "deepnote_cell_type": "markdown"
      }
    },
    {
      "cell_type": "code",
      "metadata": {
        "tags": [],
        "cell_id": "00014-51e6da23-f5f9-482f-bba5-af88336e98f5",
        "deepnote_to_be_reexecuted": false,
        "source_hash": "f80dd54e",
        "execution_start": 1612966417961,
        "execution_millis": 3,
        "deepnote_cell_type": "code"
      },
      "source": "dict_1 = {\"Banane\": 5, \n          \"Apfel\": 7, \n          \"Birne\": 9}\n\ndict_2 = {\"Vorname\": \"Monty\", \n          \"Nachname\": \"Python\", \n          \"Alter\": 48}",
      "execution_count": null,
      "outputs": []
    },
    {
      "cell_type": "markdown",
      "source": "## Mengen / Sets",
      "metadata": {
        "tags": [],
        "cell_id": "00014-102fa6f7-71cd-4a69-a779-12c050aac0c0",
        "deepnote_cell_type": "markdown"
      }
    },
    {
      "cell_type": "code",
      "metadata": {
        "tags": [],
        "cell_id": "00016-9b5c70c7-d6ed-4ae2-ae59-8ff80422edce",
        "deepnote_to_be_reexecuted": false,
        "source_hash": "a64c9359",
        "execution_start": 1612966444832,
        "execution_millis": 10,
        "deepnote_cell_type": "code"
      },
      "source": "menge = {1, 2, 2, 3, 3, 3, 4, 4, 5, 5, 5}\n\nprint(menge)\n\ntype(menge)",
      "execution_count": null,
      "outputs": [
        {
          "name": "stdout",
          "text": "{1, 2, 3, 4, 5}\n",
          "output_type": "stream"
        },
        {
          "output_type": "execute_result",
          "execution_count": 8,
          "data": {
            "text/plain": "set"
          },
          "metadata": {}
        }
      ]
    },
    {
      "cell_type": "markdown",
      "source": "## Tuple",
      "metadata": {
        "tags": [],
        "cell_id": "00016-54aabce4-d716-4a7a-88c5-7c6ab4a6f6f5",
        "deepnote_cell_type": "markdown"
      }
    },
    {
      "cell_type": "code",
      "metadata": {
        "tags": [],
        "cell_id": "00018-8cb38d14-d9a3-449f-854e-a9f973a0f6b1",
        "deepnote_to_be_reexecuted": false,
        "source_hash": "1eb40b7",
        "execution_start": 1612966477360,
        "execution_millis": 6,
        "deepnote_cell_type": "code"
      },
      "source": "word_freq = (\"Wort A\", 42)\n\ntype(word_freq)",
      "execution_count": null,
      "outputs": [
        {
          "output_type": "execute_result",
          "execution_count": 9,
          "data": {
            "text/plain": "tuple"
          },
          "metadata": {}
        }
      ]
    },
    {
      "cell_type": "markdown",
      "source": "## Indexieren von Strings",
      "metadata": {
        "tags": [],
        "cell_id": "00018-f4de445d-8532-4794-8ab8-2ba4638c1d60",
        "deepnote_cell_type": "markdown"
      }
    },
    {
      "cell_type": "code",
      "metadata": {
        "tags": [],
        "cell_id": "00020-dd489d0d-82a2-4b07-97f2-7c29f4f7e626",
        "deepnote_to_be_reexecuted": false,
        "source_hash": "8d4632af",
        "execution_start": 1612966516261,
        "execution_millis": 8,
        "deepnote_cell_type": "code"
      },
      "source": "print(\"Digital History Tagung\"[1])\n\nprint(\"Digital History Tagung\"[0])\n\nprint(\"Digital History Tagung\"[8])",
      "execution_count": null,
      "outputs": [
        {
          "name": "stdout",
          "text": "i\nD\nH\n",
          "output_type": "stream"
        }
      ]
    },
    {
      "cell_type": "markdown",
      "source": "## Slicing",
      "metadata": {
        "tags": [],
        "cell_id": "00020-b2ead146-af48-4ba2-b82c-8368c115f8e5",
        "deepnote_cell_type": "markdown"
      }
    },
    {
      "cell_type": "code",
      "metadata": {
        "tags": [],
        "cell_id": "00022-369b25b7-24c3-4dfe-8989-ff043fe29edb",
        "deepnote_to_be_reexecuted": false,
        "source_hash": "9f2317ff",
        "execution_start": 1612966549125,
        "execution_millis": 7,
        "deepnote_cell_type": "code"
      },
      "source": "print(\"Digital History Tagung\"[0:10])\n\nprint(\"Digital History Tagung\"[3:6])",
      "execution_count": null,
      "outputs": [
        {
          "name": "stdout",
          "text": "Digital Hi\nita\n",
          "output_type": "stream"
        }
      ]
    },
    {
      "cell_type": "markdown",
      "source": "## Indexieren von Listen",
      "metadata": {
        "tags": [],
        "cell_id": "00022-0d91a10e-5b6e-42e0-a4de-43c7ac1aeaea",
        "deepnote_cell_type": "markdown"
      }
    },
    {
      "cell_type": "code",
      "metadata": {
        "tags": [],
        "cell_id": "00024-3f9bbb6d-11f1-46e8-8335-c0f3a33fd823",
        "deepnote_to_be_reexecuted": false,
        "source_hash": "c6a82c",
        "execution_start": 1612966616727,
        "execution_millis": 4,
        "deepnote_cell_type": "code"
      },
      "source": "list_2 = [\"Banane\", \"Apfel\", \"Birne\"]\n\nprint(list_2[2])\n\nprint(list_2[0])",
      "execution_count": null,
      "outputs": [
        {
          "name": "stdout",
          "text": "Birne\nBanane\n",
          "output_type": "stream"
        }
      ]
    },
    {
      "cell_type": "markdown",
      "source": "## Funktionen und Methoden bei Listen",
      "metadata": {
        "tags": [],
        "cell_id": "00024-26addb84-b7a4-4eab-868d-2f87974623c3",
        "deepnote_cell_type": "markdown"
      }
    },
    {
      "cell_type": "code",
      "metadata": {
        "tags": [],
        "cell_id": "00026-17a95239-5d10-489c-b637-db942d04b90d",
        "deepnote_to_be_reexecuted": false,
        "source_hash": "107c6284",
        "execution_millis": 8,
        "execution_start": 1612966677986,
        "deepnote_cell_type": "code"
      },
      "source": "print(len(list_2))\n\nlist_2.append(\"Ananas\")\n\nlist_2.pop(1)",
      "execution_count": null,
      "outputs": [
        {
          "name": "stdout",
          "text": "3\n",
          "output_type": "stream"
        },
        {
          "output_type": "execute_result",
          "execution_count": 14,
          "data": {
            "text/plain": "'Apfel'"
          },
          "metadata": {}
        }
      ]
    },
    {
      "cell_type": "markdown",
      "source": "## Zugriff auf Dictionaries",
      "metadata": {
        "tags": [],
        "cell_id": "00026-8a5aa560-d563-4be3-9ef8-19f374d9b018",
        "deepnote_cell_type": "markdown"
      }
    },
    {
      "cell_type": "code",
      "metadata": {
        "tags": [],
        "cell_id": "00028-5dc5e5d5-e0a0-4bcc-91a3-5db109b20324",
        "deepnote_to_be_reexecuted": false,
        "source_hash": "aaa3d043",
        "execution_start": 1612966743991,
        "execution_millis": 5,
        "deepnote_cell_type": "code"
      },
      "source": "dict_1 = {\"Banane\": 5, \"Apfel\": 7, \"Birne\": 9}\n\nprint(dict_1[\"Banane\"])\n\nprint(dict_1.keys())\n\nprint(dict_1.values())\n\nprint(sum(dict_1.values()))",
      "execution_count": null,
      "outputs": [
        {
          "name": "stdout",
          "text": "5\ndict_keys(['Banane', 'Apfel', 'Birne'])\ndict_values([5, 7, 9])\n21\n",
          "output_type": "stream"
        }
      ]
    },
    {
      "cell_type": "markdown",
      "source": "## Logische Ausdrücke",
      "metadata": {
        "tags": [],
        "cell_id": "00028-e2ec2b3e-b631-47cd-b64a-9a77de025646",
        "deepnote_cell_type": "markdown"
      }
    },
    {
      "cell_type": "code",
      "metadata": {
        "tags": [],
        "cell_id": "00030-5946c3e9-caf5-4650-aa1d-ca59d470acc5",
        "deepnote_to_be_reexecuted": false,
        "source_hash": "918b4e4f",
        "execution_start": 1612966808710,
        "execution_millis": 10,
        "deepnote_cell_type": "code"
      },
      "source": "print(5 > 3)\n\nprint(5 > 7)\n\nprint(\"Mauer\" == \"Haus\")\n\nprint(\"Mauer\" != \"Haus\")",
      "execution_count": null,
      "outputs": [
        {
          "name": "stdout",
          "text": "True\nFalse\nFalse\nTrue\n",
          "output_type": "stream"
        }
      ]
    },
    {
      "cell_type": "markdown",
      "source": "## Logische Ausdrücke: and, or",
      "metadata": {
        "tags": [],
        "cell_id": "00030-0afc08f0-48d6-4ffd-8b97-6f5a8dfbd560",
        "deepnote_cell_type": "markdown"
      }
    },
    {
      "cell_type": "code",
      "metadata": {
        "tags": [],
        "cell_id": "00032-e163fd5e-3249-4249-9462-2bb61cc29c45",
        "deepnote_to_be_reexecuted": false,
        "source_hash": "f7736134",
        "execution_start": 1612966846845,
        "execution_millis": 39,
        "deepnote_cell_type": "code"
      },
      "source": "print(5 > 3 and \"Mauer\" != \"Haus\")\n\nprint(5 > 3 and \"Mauer\" == \"Haus\")\n\nprint(5 > 3 or \"Mauer\" == \"Haus\")\n\nprint(5 > 7 or \"Mauer\" == \"Haus\")",
      "execution_count": null,
      "outputs": [
        {
          "name": "stdout",
          "text": "True\nFalse\nTrue\nFalse\n",
          "output_type": "stream"
        }
      ]
    },
    {
      "cell_type": "markdown",
      "source": "## User-Input Skript",
      "metadata": {
        "tags": [],
        "cell_id": "00033-e3fa2ad4-99ea-4752-8f5d-0dfe5b3f2f78",
        "deepnote_cell_type": "markdown"
      }
    },
    {
      "cell_type": "code",
      "metadata": {
        "tags": [],
        "cell_id": "00033-56dbb2f6-4691-4446-975c-0d741feb564e",
        "deepnote_to_be_reexecuted": false,
        "source_hash": "54bd10db",
        "execution_millis": 18941,
        "execution_start": 1612967026711,
        "deepnote_cell_type": "code"
      },
      "source": "# Eingabe Name\nname = input(\"Wie heißt du? >>>\")\n\n# Eingabe Alter\nalter = input(\"Wie alt bist du? >>>\")\n\n# Eingabe Wohnort\nort = input(\"Wo wohnst du? >>>\")\n\njahr = 2021 - int(alter)\n\n# Ausgabe\nprint(f\"\"\"\n\\nHallo {name}, schön, dass du da bist!\\n\nDu bist {jahr} geboren.\\n\n{ort} ist der beste Ort auf dem Planeten.\"\"\")",
      "execution_count": null,
      "outputs": [
        {
          "name": "stdout",
          "text": "\n\nHallo Martin, schön, dass du da bist!\n\nDu bist 1980 geboren.\n\nBersenbrück ist der beste Ort auf dem Planeten.\n",
          "output_type": "stream"
        }
      ]
    },
    {
      "cell_type": "markdown",
      "source": "# Block 4: error handling und Kontrollstrukturen",
      "metadata": {
        "tags": [],
        "cell_id": "00033-2120042f-6253-4eaf-8f3b-6173389db26b",
        "deepnote_cell_type": "markdown"
      }
    },
    {
      "cell_type": "markdown",
      "source": "## Fehlerbehandlung / error handling",
      "metadata": {
        "tags": [],
        "cell_id": "00035-014bcdd4-e01e-45ec-a340-5ecb4399ce1c",
        "deepnote_cell_type": "markdown"
      }
    },
    {
      "cell_type": "code",
      "metadata": {
        "tags": [],
        "cell_id": "00035-3b354d6b-7a33-49f3-a8f8-94c80f0a649c",
        "deepnote_to_be_reexecuted": false,
        "source_hash": "2cff25d4",
        "execution_start": 1612967074815,
        "execution_millis": 6,
        "deepnote_cell_type": "code"
      },
      "source": "print(\"Hallo Welt!\"",
      "execution_count": null,
      "outputs": [
        {
          "output_type": "error",
          "ename": "SyntaxError",
          "evalue": "unexpected EOF while parsing (<ipython-input-20-ff3d601043e7>, line 1)",
          "traceback": [
            "\u001b[0;36m  File \u001b[0;32m\"<ipython-input-20-ff3d601043e7>\"\u001b[0;36m, line \u001b[0;32m1\u001b[0m\n\u001b[0;31m    print(\"Hallo Welt!\"\u001b[0m\n\u001b[0m                       ^\u001b[0m\n\u001b[0;31mSyntaxError\u001b[0m\u001b[0;31m:\u001b[0m unexpected EOF while parsing\n"
          ]
        }
      ]
    },
    {
      "cell_type": "code",
      "metadata": {
        "tags": [],
        "cell_id": "00037-e2be03e4-9ec3-49d1-8213-4d7b83775420",
        "deepnote_to_be_reexecuted": false,
        "source_hash": "c40b0a42",
        "execution_start": 1612967093379,
        "execution_millis": 6,
        "deepnote_cell_type": "code"
      },
      "source": "for x in range(10)",
      "execution_count": null,
      "outputs": [
        {
          "output_type": "error",
          "ename": "SyntaxError",
          "evalue": "invalid syntax (<ipython-input-21-a12e79ce3754>, line 1)",
          "traceback": [
            "\u001b[0;36m  File \u001b[0;32m\"<ipython-input-21-a12e79ce3754>\"\u001b[0;36m, line \u001b[0;32m1\u001b[0m\n\u001b[0;31m    for x in range(10)\u001b[0m\n\u001b[0m                      ^\u001b[0m\n\u001b[0;31mSyntaxError\u001b[0m\u001b[0;31m:\u001b[0m invalid syntax\n"
          ]
        }
      ]
    },
    {
      "cell_type": "code",
      "metadata": {
        "tags": [],
        "cell_id": "00038-494d7e67-288e-4a20-9cb1-24e078287874",
        "deepnote_to_be_reexecuted": false,
        "source_hash": "d58198e5",
        "execution_start": 1612967111472,
        "execution_millis": 10,
        "deepnote_cell_type": "code"
      },
      "source": "for x in range(10):\nprint(x)",
      "execution_count": null,
      "outputs": [
        {
          "output_type": "error",
          "ename": "IndentationError",
          "evalue": "expected an indented block (<ipython-input-22-790af6e00d9b>, line 2)",
          "traceback": [
            "\u001b[0;36m  File \u001b[0;32m\"<ipython-input-22-790af6e00d9b>\"\u001b[0;36m, line \u001b[0;32m2\u001b[0m\n\u001b[0;31m    print(x)\u001b[0m\n\u001b[0m        ^\u001b[0m\n\u001b[0;31mIndentationError\u001b[0m\u001b[0;31m:\u001b[0m expected an indented block\n"
          ]
        }
      ]
    },
    {
      "cell_type": "markdown",
      "source": "## help() Function",
      "metadata": {
        "tags": [],
        "cell_id": "00037-94319048-bfd0-49bc-945a-0a4b3b357877",
        "deepnote_cell_type": "markdown"
      }
    },
    {
      "cell_type": "code",
      "metadata": {
        "tags": [],
        "cell_id": "00040-ea5b9653-e420-408a-9e26-2754735789fc",
        "deepnote_to_be_reexecuted": false,
        "source_hash": "f589c7c2",
        "execution_start": 1612967135583,
        "execution_millis": 5,
        "deepnote_cell_type": "code"
      },
      "source": "help(len)",
      "execution_count": null,
      "outputs": [
        {
          "name": "stdout",
          "text": "Help on built-in function len in module builtins:\n\nlen(obj, /)\n    Return the number of items in a container.\n\n",
          "output_type": "stream"
        }
      ]
    },
    {
      "cell_type": "markdown",
      "source": "## Kontrollstrukturen\n\n## For-Schleife",
      "metadata": {
        "tags": [],
        "cell_id": "00040-d7576bae-4b93-43fe-b96d-d4b1bc3da0b0",
        "deepnote_cell_type": "markdown"
      }
    },
    {
      "cell_type": "code",
      "metadata": {
        "tags": [],
        "cell_id": "00042-6d5d4cac-24e0-45e7-b980-14f4752c15bc",
        "deepnote_to_be_reexecuted": false,
        "source_hash": "e0869c3c",
        "execution_start": 1612967373006,
        "execution_millis": 9,
        "deepnote_cell_type": "code"
      },
      "source": "for x in range(10):\n   print(x)",
      "execution_count": null,
      "outputs": [
        {
          "name": "stdout",
          "text": "0\n1\n2\n3\n4\n5\n6\n7\n8\n9\n",
          "output_type": "stream"
        }
      ]
    },
    {
      "cell_type": "markdown",
      "source": "## While-Schleife",
      "metadata": {
        "tags": [],
        "cell_id": "00042-5bb4d709-d0e8-49ff-b228-bc0a8b7a09c1",
        "deepnote_cell_type": "markdown"
      }
    },
    {
      "cell_type": "code",
      "metadata": {
        "tags": [],
        "cell_id": "00044-3247fad3-a16f-48d7-892f-aa5070a74bbd",
        "deepnote_to_be_reexecuted": false,
        "source_hash": "b8131084",
        "execution_start": 1612967408635,
        "execution_millis": 6,
        "deepnote_cell_type": "code"
      },
      "source": "x = 10\nwhile x > 0:\n    print(x)\n    x -= 1",
      "execution_count": null,
      "outputs": [
        {
          "name": "stdout",
          "text": "10\n9\n8\n7\n6\n5\n4\n3\n2\n1\n",
          "output_type": "stream"
        }
      ]
    },
    {
      "cell_type": "markdown",
      "source": "## If-Anweisung",
      "metadata": {
        "tags": [],
        "cell_id": "00044-530a1a62-f4b8-4d80-b753-58a4f42d8e97",
        "deepnote_cell_type": "markdown"
      }
    },
    {
      "cell_type": "code",
      "metadata": {
        "tags": [],
        "cell_id": "00046-7d34fd2e-4086-40f4-8dfb-3d0eed571eab",
        "deepnote_to_be_reexecuted": false,
        "source_hash": "e2dc2fe3",
        "execution_start": 1612967446075,
        "execution_millis": 17,
        "deepnote_cell_type": "code"
      },
      "source": "for x in range(1, 11):\n    if x % 2 == 0:\n        print(f\"{x} ist eine gerade Zahl.\")\n    else:\n        print(f\"{x} ist eine ungerade Zahl.\")",
      "execution_count": null,
      "outputs": [
        {
          "name": "stdout",
          "text": "1 ist eine ungerade Zahl.\n2 ist eine gerade Zahl.\n3 ist eine ungerade Zahl.\n4 ist eine gerade Zahl.\n5 ist eine ungerade Zahl.\n6 ist eine gerade Zahl.\n7 ist eine ungerade Zahl.\n8 ist eine gerade Zahl.\n9 ist eine ungerade Zahl.\n10 ist eine gerade Zahl.\n",
          "output_type": "stream"
        }
      ]
    },
    {
      "cell_type": "markdown",
      "source": "## Dateien lesen 1",
      "metadata": {
        "tags": [],
        "cell_id": "00046-2b2a7abf-79a0-4ecf-8589-4d6569e55900",
        "deepnote_cell_type": "markdown"
      }
    },
    {
      "cell_type": "code",
      "metadata": {
        "tags": [],
        "cell_id": "00048-f5944379-a5ac-423c-ba32-2fcde5784834",
        "deepnote_cell_type": "code"
      },
      "source": "f = open(\"DATEI.txt\", \"r\", encoding=\"utf-8\")\ntext = f.read()\nf.close()",
      "execution_count": null,
      "outputs": []
    },
    {
      "cell_type": "markdown",
      "source": "## Dateien lesen 2",
      "metadata": {
        "tags": [],
        "cell_id": "00049-3c79983b-52db-41d3-8511-398b395b9ab4",
        "deepnote_cell_type": "markdown"
      }
    },
    {
      "cell_type": "code",
      "metadata": {
        "tags": [],
        "cell_id": "00049-866bf195-5b2a-4878-8832-c5ff85cc9e95",
        "deepnote_cell_type": "code"
      },
      "source": "with open(\"DATEI.txt\", \"r\", encoding=\"utf-8\") as f:\n    text = f.read()",
      "execution_count": null,
      "outputs": []
    },
    {
      "cell_type": "markdown",
      "source": "## I/O Parameter\n\n* \"r\" = read / lesen\n* \"w\" = write / schreiben\n* \"a\" = append / anhängen",
      "metadata": {
        "tags": [],
        "cell_id": "00051-38526dff-40c2-41d2-b1fc-9538060339ce",
        "deepnote_cell_type": "markdown"
      }
    },
    {
      "cell_type": "markdown",
      "source": "## Kommentar",
      "metadata": {
        "tags": [],
        "cell_id": "00048-cdecb09d-b42c-4874-bb6b-26ceeb43d60a",
        "deepnote_cell_type": "markdown"
      }
    },
    {
      "cell_type": "code",
      "metadata": {
        "tags": [],
        "cell_id": "00053-7b1a6334-b99b-4592-b133-f892f009d204",
        "deepnote_to_be_reexecuted": false,
        "source_hash": "c1b0f7ec",
        "execution_start": 1612967582499,
        "execution_millis": 1,
        "deepnote_cell_type": "code"
      },
      "source": "# Dies ist ein Kommentar",
      "execution_count": null,
      "outputs": []
    },
    {
      "cell_type": "markdown",
      "source": "# Block 5: Pseudo-Code\n\n## algorithmisches Denken\n\n* Problem in einzelne Schritte zerlegen\n* Schritte ausformulieren\n* einzelne Bauteile zusammenstellen\n\n## Pseudo Code\n\n    TEXT =  \"text\"\n\n    LOOP OVER TEXT\n\n        IF ELEMENT IS VOWEL\n    \n            PRINT ELEMENT\n\n## Vorteil\n\n* Vorgehen wird klarer\n* Konzepte verstehen\n* Übertragbar auf andere Programmiersprachen\n\n## Problemstellung\n\nFür die Zahlen zwischen 1 und 100 soll:\n\n* FizzBuzz ausgegeben werden, wenn die Zahl durch 3 und 5 teilbar ist\n* Fizz ausgegeben werden, wenn die Zahl durch 3 teilbar ist\n* Buzz ausgegeben werden, wenn die Zahl durch 5 teilbar ist\n\n## Pseudo-Code Beispiel\n\n    FOR i from 1 TO 100 DO\n        IF i is divisible by 3 AND i is divisible by 5 THEN\n            OUTPUT \"FizzBuzz\"\n        ELSE IF i is divisible by 3 THEN\n            OUTPUT \"Fizz\"\n        ELSE IF i is divisible by 5 THEN\n            OUTPUT \"Buzz\"\n        ELSE\n            OUTPUT i\n\n## Pseudo-Code in Python",
      "metadata": {
        "tags": [],
        "cell_id": "00054-fadd069e-f9fa-4ff3-83e2-4e1a216deff8",
        "deepnote_cell_type": "markdown"
      }
    },
    {
      "cell_type": "code",
      "metadata": {
        "tags": [],
        "cell_id": "00055-3cddb5c4-4f3e-4e46-b90c-138cfd3a78f0",
        "deepnote_to_be_reexecuted": false,
        "source_hash": "67be8b46",
        "execution_start": 1612967683567,
        "execution_millis": 6,
        "deepnote_cell_type": "code"
      },
      "source": "for i in range(1,100):\n    if i % 3 == 0 and i % 5 == 0:\n        print('FizzBuzz')\n    elif i % 3 == 0:\n        print('Fizz')\n    elif i % 5 == 0:\n        print('Buzz')\n    else:\n        print(i)",
      "execution_count": null,
      "outputs": [
        {
          "name": "stdout",
          "text": "1\n2\nFizz\n4\nBuzz\nFizz\n7\n8\nFizz\nBuzz\n11\nFizz\n13\n14\nFizzBuzz\n16\n17\nFizz\n19\nBuzz\nFizz\n22\n23\nFizz\nBuzz\n26\nFizz\n28\n29\nFizzBuzz\n31\n32\nFizz\n34\nBuzz\nFizz\n37\n38\nFizz\nBuzz\n41\nFizz\n43\n44\nFizzBuzz\n46\n47\nFizz\n49\nBuzz\nFizz\n52\n53\nFizz\nBuzz\n56\nFizz\n58\n59\nFizzBuzz\n61\n62\nFizz\n64\nBuzz\nFizz\n67\n68\nFizz\nBuzz\n71\nFizz\n73\n74\nFizzBuzz\n76\n77\nFizz\n79\nBuzz\nFizz\n82\n83\nFizz\nBuzz\n86\nFizz\n88\n89\nFizzBuzz\n91\n92\nFizz\n94\nBuzz\nFizz\n97\n98\nFizz\n",
          "output_type": "stream"
        }
      ]
    },
    {
      "cell_type": "markdown",
      "source": "# Block 6: Funktionen Textprocessing\n\n## Text-Datei runterladen",
      "metadata": {
        "tags": [],
        "cell_id": "00057-267f14eb-5bbe-4c41-b38c-c515c693cd7e",
        "deepnote_cell_type": "markdown"
      }
    },
    {
      "cell_type": "code",
      "metadata": {
        "tags": [],
        "cell_id": "00057-38f7684e-9a6f-410f-930e-2c5cb7081c9a",
        "deepnote_to_be_reexecuted": false,
        "source_hash": "5f951603",
        "execution_millis": 157,
        "execution_start": 1614335522723,
        "deepnote_cell_type": "code"
      },
      "source": "import requests\n\ngg_raw_url = \"https://raw.githubusercontent.com/levinalex/deutsche_verfassungen/master/grundgesetz/grundgesetz.txt\"\nresponse = requests.get(gg_raw_url)\ngrundgesetz = response.text\n\ngrundgesetz[:1000]",
      "execution_count": null,
      "outputs": [
        {
          "output_type": "execute_result",
          "execution_count": 1,
          "data": {
            "text/plain": "'Grundgesetz für die Bundesrepublik Deutschland\\n\\nVom 23. Mai 1949 (BGBl. S. 1)\\n\\nZuletzt geändert durch das Gesetz zur Änderung des Grundgesetzes (Artikel 96) vom 26. 7. 2002 (BGBl. I S. 2863)\\n\\n\\n\\n\\n\\n\\n\\nDer Parlamentarische Rat hat am 23. Mai 1949 in Bonn am Rhein in öffentlicher Sitzung festgestellt, daß das am 8. Mai des Jahres 1949 vom Parlamentarischen Rat beschlossene Grundgesetz für die Bundesrepublik Deutschland in der Woche vom 16. bis 22. Mai 1949 durch die Volksvertretungen von mehr als zwei Dritteln der beteiligten deutschen Länder angenommen worden ist.\\nAuf Grund dieser Feststellung hat der Parlamentarische Rat, vertreten durch seine Präsidenten, das Grundgesetz ausgefertigt und verkündet.\\n\\nDas Grundgesetz wird hiermit gemäß Artikel 145 Absatz 3 im Bundesgesetzblatt veröffentlicht.\\n\\n\\nPräambel\\n\\nIm Bewußtsein seiner Verantwortung vor Gott und den Menschen, von dem Willen beseelt, als gleichberechtigtes Glied in einem vereinten Europa dem Frieden der Welt zu dienen, hat sich das De'"
          },
          "metadata": {}
        }
      ]
    },
    {
      "cell_type": "markdown",
      "source": "## Text-Datei speichern",
      "metadata": {
        "tags": [],
        "cell_id": "00057-904df640-921c-425e-8135-05b1fb764244",
        "deepnote_cell_type": "markdown"
      }
    },
    {
      "cell_type": "code",
      "metadata": {
        "tags": [],
        "cell_id": "00059-3950df59-f03e-46cd-8133-22a33f3230bd",
        "deepnote_to_be_reexecuted": false,
        "source_hash": "2a00d7d9",
        "execution_millis": 0,
        "execution_start": 1614335594671,
        "deepnote_cell_type": "code"
      },
      "source": "with open('grundgesetz.txt', 'w', encoding='utf-8') as f:\n    f.write(grundgesetz)",
      "execution_count": null,
      "outputs": []
    },
    {
      "cell_type": "markdown",
      "source": "## Kleinschreibung vereinheitlichen",
      "metadata": {
        "tags": [],
        "cell_id": "00060-e580d374-8fb0-4cef-a1cf-3815a30a49b3",
        "deepnote_cell_type": "markdown"
      }
    },
    {
      "cell_type": "code",
      "metadata": {
        "tags": [],
        "cell_id": "00061-555432e4-bb2f-48c7-ab27-4e16f9d2ef7f",
        "deepnote_to_be_reexecuted": false,
        "source_hash": "f847ac48",
        "execution_millis": 27,
        "execution_start": 1614335676934,
        "deepnote_cell_type": "code"
      },
      "source": "grundgesetz = grundgesetz.lower()\nprint(grundgesetz[:250])",
      "execution_count": null,
      "outputs": [
        {
          "name": "stdout",
          "text": "grundgesetz für die bundesrepublik deutschland\n\nvom 23. mai 1949 (bgbl. s. 1)\n\nzuletzt geändert durch das gesetz zur änderung des grundgesetzes (artikel 96) vom 26. 7. 2002 (bgbl. i s. 2863)\n\n\n\n\n\n\n\nder parlamentarische rat hat am 23. mai 1949 in bonn\n",
          "output_type": "stream"
        }
      ]
    },
    {
      "cell_type": "markdown",
      "source": "## Zeichensetzung entfernen",
      "metadata": {
        "tags": [],
        "cell_id": "00061-c49f7e62-685e-4251-89a9-04759b10545f",
        "deepnote_cell_type": "markdown"
      }
    },
    {
      "cell_type": "code",
      "metadata": {
        "tags": [],
        "cell_id": "00063-ebc4ca55-7ebb-45ae-9d7d-536614d873de",
        "deepnote_to_be_reexecuted": false,
        "source_hash": "f0e61e9b",
        "execution_millis": 26,
        "execution_start": 1614335935020,
        "deepnote_cell_type": "code"
      },
      "source": "import string\n\ndef remove_punctuation(text):\n    punctuation = string.punctuation\n    for marker in punctuation:\n        text = text.replace(marker, \"\")\n    return text\n\ngrundgesetz = remove_punctuation(grundgesetz)\nprint(grundgesetz[:250])",
      "execution_count": null,
      "outputs": [
        {
          "name": "stdout",
          "text": "grundgesetz für die bundesrepublik deutschland\n\nvom 23 mai 1949 bgbl s 1\n\nzuletzt geändert durch das gesetz zur änderung des grundgesetzes artikel 96 vom 26 7 2002 bgbl i s 2863\n\n\n\n\n\n\n\nder parlamentarische rat hat am 23 mai 1949 in bonn am rhein in ö\n",
          "output_type": "stream"
        }
      ]
    },
    {
      "cell_type": "markdown",
      "source": "## Liste erstellen",
      "metadata": {
        "tags": [],
        "cell_id": "00063-ed7117ae-84a5-4507-826d-8ddd22010189",
        "deepnote_cell_type": "markdown"
      }
    },
    {
      "cell_type": "code",
      "metadata": {
        "tags": [],
        "cell_id": "00065-f2fd90f6-8430-4232-a9a1-52c6ec75dfbc",
        "deepnote_to_be_reexecuted": false,
        "source_hash": "5d97d180",
        "execution_millis": 1,
        "execution_start": 1614336054142,
        "deepnote_cell_type": "code"
      },
      "source": "grundgesetz_words = grundgesetz.split()\n",
      "execution_count": null,
      "outputs": []
    },
    {
      "cell_type": "code",
      "metadata": {
        "tags": [],
        "cell_id": "00066-56ba7246-7c2d-4771-93d1-447f73a8d682",
        "deepnote_to_be_reexecuted": false,
        "source_hash": "37dcbd65",
        "execution_millis": 12,
        "execution_start": 1614336060697,
        "deepnote_cell_type": "code"
      },
      "source": "print(\"Anzahl aller Worte des Textes: \")\nprint(len(grundgesetz_words))\nprint(\"=======\")\nprint(grundgesetz_words[:25])",
      "execution_count": null,
      "outputs": [
        {
          "name": "stdout",
          "text": "Anzahl aller Worte des Textes: \n19127\n=======\n['grundgesetz', 'für', 'die', 'bundesrepublik', 'deutschland', 'vom', '23', 'mai', '1949', 'bgbl', 's', '1', 'zuletzt', 'geändert', 'durch', 'das', 'gesetz', 'zur', 'änderung', 'des', 'grundgesetzes', 'artikel', '96', 'vom', '26']\n",
          "output_type": "stream"
        }
      ]
    },
    {
      "cell_type": "markdown",
      "source": "## Zählen eines bestimmten Worts",
      "metadata": {
        "tags": [],
        "cell_id": "00065-16bb5e4d-2eff-4687-a4d2-e7e7bbeec728",
        "deepnote_cell_type": "markdown"
      }
    },
    {
      "cell_type": "code",
      "metadata": {
        "tags": [],
        "cell_id": "00068-1eee49f7-6efa-45c9-8d5b-1c4796cc80cc",
        "deepnote_to_be_reexecuted": false,
        "source_hash": "514bf236",
        "execution_millis": 0,
        "execution_start": 1614336229300,
        "deepnote_cell_type": "code"
      },
      "source": "def count_item_in_text(item_to_count, list_to_search):\n    number_of_hits = 0\n    for item in list_to_search:\n        if item == item_to_count:\n            number_of_hits += 1\n    return number_of_hits",
      "execution_count": null,
      "outputs": []
    },
    {
      "cell_type": "code",
      "metadata": {
        "tags": [],
        "cell_id": "00069-4946e527-4f1c-4199-8cc9-c1fb37695f1c",
        "deepnote_to_be_reexecuted": false,
        "source_hash": "fcc6a94",
        "execution_millis": 44,
        "execution_start": 1614336270744,
        "deepnote_cell_type": "code"
      },
      "source": "print(count_item_in_text(\"bund\", grundgesetz_words))",
      "execution_count": null,
      "outputs": [
        {
          "name": "stdout",
          "text": "85\n",
          "output_type": "stream"
        }
      ]
    },
    {
      "cell_type": "markdown",
      "source": "## Alle Wörter zählen mit Hilfe eines Dictionarys",
      "metadata": {
        "tags": [],
        "cell_id": "00068-3373dc4d-bba6-44bb-8b3e-e6b4ea249e16",
        "deepnote_cell_type": "markdown"
      }
    },
    {
      "cell_type": "code",
      "metadata": {
        "tags": [],
        "cell_id": "00071-bc7083cf-d28a-43b9-bfc0-fe2d7dd481c8",
        "deepnote_to_be_reexecuted": false,
        "source_hash": "1d945f1f",
        "execution_millis": 1,
        "execution_start": 1614336465062,
        "deepnote_cell_type": "code"
      },
      "source": "def counter_dict(list_to_search):\n    counts = {}\n    for word in list_to_search:\n        if word in counts:\n            counts[word] = counts[word] + 1  \n        else:\n            counts[word] = 1\n    return counts",
      "execution_count": null,
      "outputs": []
    },
    {
      "cell_type": "code",
      "metadata": {
        "tags": [],
        "cell_id": "00072-02417998-33c0-4a7a-acdd-a0aafce9408e",
        "deepnote_to_be_reexecuted": false,
        "source_hash": "dc0ccbfd",
        "execution_millis": 19,
        "execution_start": 1612968262142,
        "deepnote_cell_type": "code"
      },
      "source": "counter_dict(grundgesetz_words)",
      "execution_count": null,
      "outputs": [
        {
          "output_type": "execute_result",
          "execution_count": 40,
          "data": {
            "text/plain": "{'grundgesetz': 27,\n 'für': 162,\n 'die': 859,\n 'bundesrepublik': 10,\n 'deutschland': 9,\n 'vom': 43,\n '23': 9,\n 'mai': 10,\n '1949': 5,\n 'bgbl': 2,\n 's': 2,\n '1': 219,\n 'zuletzt': 1,\n 'geändert': 13,\n 'durch': 176,\n 'das': 303,\n 'gesetz': 65,\n 'zur': 99,\n 'änderung': 9,\n 'des': 495,\n 'grundgesetzes': 30,\n 'artikel': 263,\n '96': 2,\n '26': 4,\n '7': 14,\n '2002': 1,\n 'i': 3,\n '2863': 1,\n 'der': 932,\n 'parlamentarische': 5,\n 'rat': 5,\n 'hat': 71,\n 'am': 15,\n 'in': 241,\n 'bonn': 1,\n 'rhein': 1,\n 'öffentlicher': 4,\n 'sitzung': 3,\n 'festgestellt': 6,\n 'daß': 59,\n '8': 14,\n 'jahres': 2,\n 'parlamentarischen': 3,\n 'beschlossene': 2,\n 'woche': 1,\n '16': 5,\n 'bis': 35,\n '22': 3,\n 'volksvertretungen': 4,\n 'von': 189,\n 'mehr': 25,\n 'als': 67,\n 'zwei': 24,\n 'dritteln': 14,\n 'beteiligten': 10,\n 'deutschen': 27,\n 'länder': 112,\n 'angenommen': 1,\n 'worden': 15,\n 'ist': 160,\n 'auf': 154,\n 'grund': 38,\n 'dieser': 22,\n 'feststellung': 11,\n 'vertreten': 4,\n 'seine': 12,\n 'präsidenten': 8,\n 'ausgefertigt': 3,\n 'und': 577,\n 'verkündet': 7,\n 'wird': 81,\n 'hiermit': 1,\n 'gemäß': 18,\n '145': 2,\n 'absatz': 98,\n '3': 131,\n 'im': 132,\n 'bundesgesetzblatt': 2,\n 'veröffentlicht': 1,\n 'präambel': 1,\n 'bewußtsein': 1,\n 'seiner': 53,\n 'verantwortung': 11,\n 'vor': 24,\n 'gott': 2,\n 'den': 283,\n 'menschen': 5,\n 'dem': 139,\n 'willen': 6,\n 'beseelt': 1,\n 'gleichberechtigtes': 1,\n 'glied': 1,\n 'einem': 50,\n 'vereinten': 2,\n 'europa': 2,\n 'frieden': 1,\n 'welt': 3,\n 'zu': 192,\n 'dienen': 7,\n 'sich': 43,\n 'deutsche': 13,\n 'volk': 5,\n 'kraft': 15,\n 'verfassungsgebenden': 1,\n 'gewalt': 11,\n 'dieses': 46,\n 'gegeben': 4,\n 'ländern': 57,\n 'badenwürttemberg': 1,\n 'bayern': 2,\n 'berlin': 2,\n 'brandenburg': 2,\n 'bremen': 1,\n 'hamburg': 1,\n 'hessen': 1,\n 'mecklenburgvorpommern': 1,\n 'niedersachsen': 1,\n 'nordrheinwestfalen': 1,\n 'rheinlandpfalz': 2,\n 'saarland': 1,\n 'sachsen': 1,\n 'sachsenanhalt': 1,\n 'schleswigholstein': 1,\n 'thüringen': 1,\n 'haben': 30,\n 'freier': 3,\n 'selbstbestimmung': 1,\n 'einheit': 3,\n 'freiheit': 13,\n 'deutschlands': 2,\n 'vollendet': 3,\n 'damit': 1,\n 'gilt': 30,\n 'gesamte': 3,\n 'grundrechte': 8,\n 'würde': 2,\n 'unantastbar': 1,\n 'sie': 74,\n 'achten': 1,\n 'schützen': 2,\n 'verpflichtung': 2,\n 'aller': 3,\n 'staatlichen': 9,\n '2': 201,\n 'bekennt': 1,\n 'darum': 1,\n 'unverletzlichen': 1,\n 'unveräußerlichen': 1,\n 'menschenrechten': 1,\n 'grundlage': 7,\n 'jeder': 14,\n 'menschlichen': 1,\n 'gemeinschaft': 8,\n 'friedens': 2,\n 'gerechtigkeit': 2,\n 'nachfolgenden': 2,\n 'binden': 1,\n 'gesetzgebung': 33,\n 'vollziehende': 3,\n 'rechtsprechung': 6,\n 'unmittelbar': 8,\n 'geltendes': 2,\n 'recht': 54,\n 'freie': 1,\n 'entfaltung': 1,\n 'persönlichkeit': 1,\n 'soweit': 80,\n 'er': 33,\n 'nicht': 120,\n 'rechte': 22,\n 'anderer': 16,\n 'verletzt': 5,\n 'gegen': 26,\n 'verfassungsmaßige': 1,\n 'ordnung': 15,\n 'oder': 269,\n 'sittengesetz': 1,\n 'verstößt': 2,\n 'leben': 1,\n 'körperliche': 1,\n 'unversehrtheit': 1,\n 'person': 4,\n 'unverletzlich': 4,\n 'diese': 32,\n 'darf': 31,\n 'nur': 60,\n 'eines': 93,\n 'gesetzes': 18,\n 'eingegriffen': 1,\n 'werden': 207,\n 'alle': 18,\n 'sind': 109,\n 'gleich': 1,\n 'männer': 1,\n 'frauen': 3,\n 'gleichberechtigt': 1,\n 'staat': 4,\n 'fördert': 1,\n 'tatsächliche': 1,\n 'durchsetzung': 1,\n 'gleichberechtigung': 1,\n 'männern': 1,\n 'wirkt': 3,\n 'beseitigung': 5,\n 'bestehender': 5,\n 'nachteile': 1,\n 'hin': 1,\n 'niemand': 7,\n 'wegen': 11,\n 'seines': 8,\n 'geschlechtes': 1,\n 'abstammung': 1,\n 'rasse': 1,\n 'sprache': 1,\n 'heimat': 1,\n 'herkunft': 2,\n 'glaubens': 2,\n 'religiösen': 4,\n 'politischen': 5,\n 'anschauungen': 1,\n 'benachteiligt': 2,\n 'bevorzugt': 1,\n 'behinderung': 1,\n '4': 65,\n 'gewissens': 1,\n 'weltanschaulichen': 1,\n 'bekenntnisses': 1,\n 'ungestörte': 1,\n 'religionsausübung': 1,\n 'gewährleistet': 11,\n 'sein': 7,\n 'gewissen': 2,\n 'zum': 54,\n 'kriegsdienst': 2,\n 'mit': 128,\n 'waffe': 3,\n 'gezwungen': 2,\n 'nahere': 1,\n 'regelt': 25,\n 'ein': 95,\n 'bundesgesetz': 78,\n '5': 39,\n 'meinung': 2,\n 'wort': 2,\n 'schrift': 2,\n 'bild': 2,\n 'frei': 7,\n 'äußern': 2,\n 'verbreiten': 2,\n 'aus': 59,\n 'allgemein': 2,\n 'zugänglichen': 1,\n 'quellen': 2,\n 'ungehindert': 1,\n 'unterrichten': 5,\n 'pressefreiheit': 2,\n 'berichterstattung': 1,\n 'rundfunk': 1,\n 'film': 1,\n 'eine': 87,\n 'zensur': 1,\n 'findet': 18,\n 'statt': 5,\n 'finden': 3,\n 'ihre': 23,\n 'schranken': 2,\n 'vorschriften': 14,\n 'allgemeinen': 13,\n 'gesetze': 39,\n 'gesetzlichen': 5,\n 'bestimmungen': 12,\n 'schutze': 10,\n 'derjugend': 1,\n 'persönlichen': 3,\n 'ehre': 1,\n 'kunst': 1,\n 'wissenschaft': 1,\n 'forschung': 3,\n 'lehre': 2,\n 'entbindet': 1,\n 'treue': 1,\n 'verfassung': 5,\n '6': 18,\n 'ehe': 1,\n 'familie': 2,\n 'stehen': 12,\n 'unter': 25,\n 'besonderen': 3,\n 'pflege': 2,\n 'erziehung': 1,\n 'kinder': 3,\n 'natürliche': 1,\n 'eltern': 2,\n 'zuvörderst': 1,\n 'ihnen': 7,\n 'obliegende': 2,\n 'pflicht': 5,\n 'über': 80,\n 'betätigung': 1,\n 'wacht': 1,\n 'staatliche': 1,\n 'erziehungsberechtigten': 4,\n 'dürfen': 21,\n 'getrennt': 3,\n 'wenn': 62,\n 'versagen': 3,\n 'anderen': 20,\n 'gründen': 6,\n 'verwahrlosen': 1,\n 'drohen': 1,\n 'jede': 5,\n 'mutter': 1,\n 'anspruch': 6,\n 'schutz': 9,\n 'fürsorge': 3,\n 'unehelichen': 1,\n 'kindern': 3,\n 'gleichen': 10,\n 'bedingungen': 2,\n 'leibliche': 1,\n 'seelische': 1,\n 'entwicklung': 2,\n 'stellung': 7,\n 'gesellschaft': 1,\n 'schaffen': 1,\n 'wie': 3,\n 'ehelichen': 1,\n 'schulwesen': 1,\n 'steht': 16,\n 'aufsicht': 3,\n 'staates': 2,\n 'teilnahme': 2,\n 'kindes': 1,\n 'religionsunterricht': 4,\n 'bestimmen': 24,\n 'öffentlichen': 34,\n 'schulen': 7,\n 'ausnahme': 2,\n 'bekenntnisfreien': 1,\n 'ordentliches': 1,\n 'lehrfach': 1,\n 'unbeschadet': 2,\n 'aufsichtsrechtes': 1,\n 'übereinstimmung': 2,\n 'grundsätzen': 7,\n 'religionsgemeinschaften': 1,\n 'erteilt': 4,\n 'kein': 6,\n 'lehrer': 1,\n 'seinen': 7,\n 'verpflichtet': 13,\n 'erteilen': 7,\n 'errichtung': 3,\n 'privaten': 4,\n 'private': 3,\n 'ersatz': 1,\n 'öffentliche': 7,\n 'bedürfen': 19,\n 'genehmigung': 7,\n 'unterstehen': 4,\n 'landesgesetzen': 2,\n 'ihren': 10,\n 'lehrzielen': 1,\n 'einrichtungen': 17,\n 'sowie': 43,\n 'wissenschaftlichen': 3,\n 'ausbildung': 3,\n 'ihrer': 32,\n 'lehrkräfte': 2,\n 'hinter': 1,\n 'zurückstehen': 1,\n 'sonderung': 1,\n 'schüler': 1,\n 'nach': 134,\n 'besitzverhältnissen': 1,\n 'gefördert': 1,\n 'wirtschaftliche': 3,\n 'rechtliche': 1,\n 'genügend': 1,\n 'gesichert': 1,\n 'volksschule': 2,\n 'zuzulassen': 1,\n 'unterrichtsverwaltung': 1,\n 'besonderes': 4,\n 'pädagogisches': 1,\n 'interesse': 4,\n 'anerkennt': 1,\n 'antrag': 19,\n 'gemeinschaftsschule': 1,\n 'bekenntnis': 3,\n 'weltanschauungsschule': 1,\n 'errichtet': 6,\n 'soll': 12,\n 'art': 5,\n 'gemeinde': 1,\n 'besteht': 8,\n 'vorschulen': 1,\n 'bleiben': 10,\n 'aufgehoben': 6,\n 'ohne': 10,\n 'anmeldung': 1,\n 'erlaubnis': 1,\n 'friedlich': 1,\n 'waffen': 3,\n 'versammeln': 1,\n 'versammlungen': 1,\n 'freiem': 1,\n 'himmel': 1,\n 'kann': 123,\n 'beschränkt': 5,\n '9': 5,\n 'vereine': 1,\n 'gesellschaften': 1,\n 'bilden': 5,\n 'vereinigungen': 3,\n 'deren': 20,\n 'zwecke': 8,\n 'tätigkeit': 2,\n 'strafgesetzen': 1,\n 'zuwiderlaufen': 1,\n 'verfassungsmäßige': 6,\n 'gedanken': 1,\n 'völkerverständigung': 1,\n 'richten': 6,\n 'verboten': 1,\n 'wahrung': 7,\n 'förderung': 6,\n 'arbeits': 3,\n 'wirtschaftsbedingungen': 2,\n 'jedermann': 5,\n 'berufe': 1,\n 'abreden': 1,\n 'einschränken': 2,\n 'behindern': 1,\n 'suchen': 1,\n 'nichtig': 1,\n 'hierauf': 1,\n 'gerichtete': 3,\n 'maßnahmen': 21,\n 'rechtswidrig': 1,\n 'artikeln': 5,\n '12': 5,\n 'a': 33,\n '35': 2,\n '87': 10,\n '91': 7,\n 'arbeitskämpfe': 1,\n 'sinne': 12,\n 'satzes': 3,\n 'geführt': 8,\n '10': 5,\n 'briefgeheimnis': 1,\n 'post': 4,\n 'femmeldegeheimnis': 1,\n 'beschränkungen': 4,\n 'angeordnet': 4,\n 'dient': 4,\n 'beschränkung': 3,\n 'freiheitlichen': 2,\n 'demokratischen': 8,\n 'grundordnung': 7,\n 'bestandes': 2,\n 'sicherung': 5,\n 'bundes': 73,\n 'landes': 35,\n 'so': 59,\n 'betroffenen': 12,\n 'mitgeteilt': 1,\n 'an': 54,\n 'stelle': 8,\n 'rechtsweges': 2,\n 'nachprüfung': 1,\n 'volksvertretung': 3,\n 'bestellte': 1,\n 'organe': 3,\n 'hilfsorgane': 1,\n 'tritt': 8,\n '11': 6,\n 'genießen': 2,\n 'freizügigkeit': 5,\n 'ganzen': 2,\n 'bundesgebiet': 11,\n 'fälle': 3,\n 'eingeschränkt': 4,\n 'denen': 8,\n 'ausreichende': 2,\n 'lebensgrundlage': 1,\n 'vorhanden': 1,\n 'allgemeinheit': 5,\n 'daraus': 2,\n 'besondere': 10,\n 'lasten': 2,\n 'entstehen': 3,\n 'würden': 1,\n 'es': 61,\n 'abwehr': 11,\n 'einer': 55,\n 'drohenden': 4,\n 'gefahr': 17,\n 'bestand': 6,\n 'freiheitliche': 5,\n 'demokratische': 5,\n 'bekämpfung': 6,\n 'seuchengefahr': 2,\n 'naturkatastrophen': 1,\n 'besonders': 7,\n 'schweren': 2,\n 'unglücksfällen': 1,\n 'jugend': 1,\n 'verwahrlosung': 1,\n 'um': 15,\n 'strafbaren': 2,\n 'handlungen': 3,\n 'vorzubeugen': 1,\n 'erforderlich': 18,\n 'beruf': 3,\n 'arbeitsplatz': 2,\n 'ausbildungsstätte': 1,\n 'wählen': 2,\n 'berufsausübung': 1,\n 'geregelt': 22,\n 'bestimmten': 4,\n 'arbeit': 1,\n 'außer': 15,\n 'rahmen': 11,\n 'herkömmlichen': 1,\n 'dienstleistungspflicht': 1,\n 'zwangsarbeit': 1,\n 'bei': 76,\n 'gerichtlich': 2,\n 'angeordneten': 1,\n 'freiheitsentziehung': 4,\n 'zulässig': 10,\n 'manner': 1,\n 'können': 61,\n 'vollendeten': 3,\n 'achtzehnten': 2,\n 'lebensjahr': 4,\n 'dienst': 8,\n 'streitkräften': 4,\n 'bundesgrenzschutz': 3,\n 'zivilschutzverband': 1,\n 'wer': 11,\n 'gewissensgründen': 1,\n 'verweigert': 1,\n 'ersatzdienst': 2,\n 'dauer': 4,\n 'ersatzdienstes': 4,\n 'wehrdienstes': 1,\n 'übersteigen': 1,\n 'nähere': 36,\n 'gewissensentscheidung': 1,\n 'beeinträchtigen': 2,\n 'auch': 40,\n 'möglichkeit': 1,\n 'vorsehen': 7,\n 'muß': 13,\n 'keinem': 3,\n 'zusammenhang': 3,\n 'verbänden': 1,\n 'streitkräfte': 14,\n 'bundesgrenzschutzes': 7,\n 'wehrpflichtige': 1,\n 'herangezogen': 2,\n 'verteidigungsfalle': 13,\n 'zivilen': 4,\n 'dienstleistungen': 6,\n 'verteidigung': 12,\n 'einschließlich': 14,\n 'schutzes': 6,\n 'zivil': 1,\n 'bevölkerung': 1,\n 'arbeitsverhältnisse': 3,\n 'verpflichtungen': 5,\n 'öffentlichrechtliche': 2,\n 'dienstverhaltnisse': 1,\n 'wahrnehmung': 5,\n 'polizeilicher': 2,\n 'aufgaben': 24,\n 'solcher': 5,\n 'hoheitlichen': 1,\n 'verwaltung': 25,\n 'öffentlichrechtlichen': 4,\n 'dienstverhaltnis': 1,\n 'erfüllt': 2,\n 'satz': 43,\n 'bereich': 9,\n 'versorgung': 4,\n 'begründet': 3,\n 'bereiche': 3,\n 'zivilbevölkerung': 5,\n 'iebensnotwendigen': 1,\n 'bedarf': 46,\n 'decken': 2,\n 'sicherzustellen': 3,\n 'sanitäts': 1,\n 'heilwesen': 1,\n 'ortsfesten': 1,\n 'militarischen': 1,\n 'lazarettorganisation': 1,\n 'freiwilliger': 2,\n 'gedeckt': 2,\n 'fünfundfünfzigsten': 1,\n 'derartigen': 1,\n 'keinen': 4,\n 'fall': 4,\n 'zeit': 5,\n 'maßgabe': 16,\n 'artikels': 25,\n '80': 3,\n 'vorbereitung': 4,\n 'kenntnisse': 1,\n 'fertigkeiten': 1,\n 'ausbildungsveranstaltungen': 1,\n 'gemacht': 4,\n 'insoweit': 7,\n 'keine': 12,\n 'anwendung': 24,\n 'arbeitskräften': 1,\n 'genannten': 7,\n 'bedarfs': 1,\n 'ausübung': 9,\n 'berufs': 1,\n 'aufzugeben': 1,\n 'eingeschrdnkt': 2,\n 'eintrift': 1,\n 'verteidigungsfalles': 14,\n 'entsprechend': 9,\n '13': 3,\n 'wohnung': 2,\n 'durchsuchungen': 1,\n 'richter': 19,\n 'verzuge': 5,\n 'gesetzen': 4,\n 'vorgesehenen': 5,\n 'dort': 2,\n 'vorgeschriebenen': 2,\n 'form': 3,\n 'durchgeführt': 3,\n 'begründen': 2,\n 'bestimmte': 5,\n 'tatsachen': 4,\n 'verdacht': 1,\n 'jemand': 3,\n 'einzeln': 2,\n 'schwere': 1,\n 'straftat': 1,\n 'begangen': 2,\n 'verfolgung': 2,\n 'tat': 5,\n 'richterlicher': 4,\n 'anordnung': 7,\n 'technische': 3,\n 'mittel': 8,\n 'akustischen': 1,\n 'überwachung': 1,\n 'wohnungen': 3,\n 'beschuldigte': 1,\n 'vermutlich': 1,\n 'aufhält': 1,\n 'eingesetzt': 3,\n 'erforschung': 1,\n 'sachverhalts': 1,\n 'andere': 16,\n 'weise': 3,\n 'unverhältnismäßig': 1,\n 'erschwert': 1,\n 'aussichtslos': 1,\n 'wäre': 1,\n 'maßnahme': 6,\n 'befristen': 1,\n 'erfolgt': 8,\n 'einen': 29,\n 'drei': 7,\n 'richtern': 3,\n 'besetzten': 1,\n 'spruchkörper': 1,\n 'einzelnen': 6,\n 'getroffen': 5,\n 'dringender': 2,\n 'gefahren': 3,\n 'sicherheit': 5,\n 'insbesondere': 11,\n 'gemeinen': 2,\n 'lebensgefahr': 2,\n 'uberwachung': 1,\n 'gesetzlich': 8,\n 'richterliche': 4,\n 'entscheidung': 18,\n 'unverzüglich': 12,\n 'nachzuholen': 3,\n 'ausschließlich': 2,\n 'einsatz': 3,\n 'tätigen': 2,\n 'personen': 12,\n 'vorgesehen': 5,\n 'anderweitige': 1,\n 'verwertung': 1,\n 'hierbei': 5,\n 'erlangten': 1,\n 'erkenntnisse': 1,\n 'strafverfolgung': 1,\n 'gefahrenabwehr': 1,\n 'zuvor': 1,\n 'rechtmäßigkeit': 2,\n 'richterlich': 2,\n 'bundesregierung': 84,\n 'unterrichtet': 1,\n 'bundestag': 55,\n 'jährlich': 2,\n 'zuständigkeitsbereich': 4,\n 'überprüfungsbedürftig': 1,\n 'erfolgten': 1,\n 'technischer': 1,\n 'gewähltes': 1,\n 'gremium': 1,\n 'übt': 4,\n 'berichts': 1,\n 'kontrolle': 3,\n 'gewährleisten': 3,\n 'gleichwertige': 1,\n 'eingriffe': 2,\n 'übrigen': 13,\n 'einzelne': 2,\n 'verhütung': 2,\n 'behebung': 1,\n 'raumnot': 2,\n 'gefährdeter': 1,\n 'jugendlicher': 1,\n 'vorgenommen': 3,\n '14': 5,\n 'eigentum': 6,\n 'erbrecht': 1,\n 'inhalt': 3,\n 'bestimmt': 39,\n 'gebrauch': 2,\n 'zugleich': 1,\n 'wohle': 3,\n 'enteignung': 2,\n 'zulassig': 1,\n 'erfolgen': 4,\n 'ausmaß': 4,\n 'entschadigung': 1,\n 'entschädigung': 5,\n 'gerechter': 1,\n 'abwägung': 1,\n 'interessen': 2,\n 'höhe': 5,\n 'streitfall': 1,\n 'rechtsweg': 6,\n 'ordentlichen': 2,\n 'gerichten': 1,\n 'offen': 3,\n '15': 3,\n 'boden': 2,\n 'naturschätze': 1,\n 'produktionsmittel': 1,\n 'vergesellschaftung': 1,\n 'gemeineigentum': 2,\n 'formen': 4,\n 'gemeinwirtschaft': 2,\n 'überführt': 1,\n 'staatsangehörigkeit': 6,\n 'entzogen': 5,\n 'verlust': 1,\n 'dann': 2,\n 'eintreten': 1,\n 'betroffene': 2,\n 'dadurch': 4,\n 'staatenlos': 1,\n 'deutscher': 3,\n 'ausland': 3,\n 'ausgeliefert': 1,\n 'abweichende': 4,\n 'regelung': 21,\n 'auslieferungen': 1,\n 'mitgliedstaat': 3,\n 'europäischen': 18,\n 'union': 10,\n 'internationalen': 2,\n 'gerichtshof': 2,\n 'rechtsstaatliche': 1,\n 'grundsätze': 10,\n 'gewahrt': 2,\n 'politisch': 2,\n 'verfolgte': 2,\n 'asylrecht': 2,\n 'berufen': 2,\n 'gemeinschaften': 5,\n 'drittstaat': 1,\n 'einreist': 1,\n 'abkommens': 1,\n 'rechtsstellung': 6,\n 'elüchtlinge': 1,\n 'konvention': 2,\n 'menschenrechte': 2,\n 'grundfreiheiten': 2,\n 'sichergestellt': 2,\n 'staaten': 6,\n 'außerhalb': 3,\n 'voraussetzungen': 8,\n 'zutreffen': 1,\n 'zustimmung': 96,\n 'bundesrates': 95,\n 'fällen': 13,\n 'aufenthaltsbeendende': 1,\n 'unabhängig': 6,\n 'hiergegen': 1,\n 'eingelegten': 1,\n 'rechtsbehelf': 1,\n 'vollzogen': 1,\n 'rechtslage': 1,\n 'rechtsanwendung': 1,\n 'verhältnisse': 6,\n 'erscheint': 1,\n 'weder': 9,\n 'politische': 1,\n 'noch': 11,\n 'unmenschliche': 1,\n 'erniedrigende': 1,\n 'bestrafüng': 1,\n 'behandlung': 2,\n 'stattfindet': 2,\n 'vermutet': 1,\n 'ausländer': 2,\n 'solchen': 3,\n 'verfolgt': 3,\n 'solange': 4,\n 'vorträgt': 1,\n 'annahme': 4,\n 'entgegen': 3,\n 'vermutung': 1,\n 'vollziehung': 1,\n 'aufenthaltsbeendender': 1,\n 'absatzes': 12,\n 'offensichtlich': 2,\n 'unbegründet': 2,\n 'gelten': 11,\n 'gericht': 5,\n 'ausgesetzt': 1,\n 'ernstliche': 1,\n 'zweifel': 1,\n 'bestehen': 4,\n 'prüfungsumfang': 1,\n 'verspätetes': 1,\n 'vorbringen': 1,\n 'unberücksichtigt': 3,\n 'absätze': 8,\n 'völkerrechtlichen': 2,\n 'verträgen': 2,\n 'mitgliedstaaten': 1,\n 'untereinander': 1,\n 'dritten': 2,\n 'beachtung': 2,\n 'abkommen': 1,\n 'flüchtlinge': 5,\n 'vertragsstaaten': 1,\n 'zuständigkeitsregelungen': 1,\n 'prüfüng': 1,\n 'asylbegehren': 1,\n 'gegenseitigen': 1,\n 'anerkennung': 1,\n 'asylentscheidungen': 1,\n 'treffen': 9,\n '17': 5,\n 'schriftlich': 1,\n 'bitten': 3,\n 'beschwerden': 4,\n 'zuständigen': 16,\n 'stellen': 6,\n 'wenden': 2,\n 'wehrdienst': 1,\n 'angehörigen': 3,\n 'während': 5,\n 'wehr': 1,\n 'grundrecht': 5,\n 'erster': 1,\n 'halbsatz': 2,\n 'versammlungsfreiheit': 2,\n 'petitionsrecht': 1,\n 'gewährt': 3,\n 'vorzubringen': 1,\n 'unverletzlichkeit': 1,\n '18': 5,\n 'meinungsäußerung': 1,\n 'lehrfreiheit': 1,\n 'vereinigungsfreiheit': 1,\n 'brief': 2,\n 'fernmeldegeheimnis': 2,\n 'kampfe': 1,\n 'mißbraucht': 1,\n 'verwirkt': 1,\n 'verwirkung': 1,\n 'ihr': 7,\n 'bundesverfassungsgericht': 16,\n 'ausgesprochen': 1,\n '19': 5,\n 'diesem': 25,\n 'einzelfall': 1,\n 'außerdem': 3,\n 'angabe': 1,\n 'nennen': 1,\n 'falle': 8,\n 'seinem': 6,\n 'wesensgehalt': 1,\n 'angetastet': 1,\n 'inländische': 1,\n 'juristische': 1,\n 'ihrem': 4,\n 'wesen': 1,\n 'anwendbar': 1,\n 'rechten': 2,\n 'ihm': 18,\n 'zuständigkeit': 3,\n 'ordentliche': 2,\n 'bleibt': 9,\n 'unberührt': 7,\n 'ii': 2,\n 'bund': 85,\n '20': 5,\n 'demokratischer': 1,\n 'sozialer': 1,\n 'bundesstaat': 1,\n 'staatsgewalt': 1,\n 'geht': 5,\n 'volke': 3,\n 'wahlen': 4,\n 'abstimmungen': 1,\n 'vollziehenden': 1,\n 'ausgeübt': 4,\n 'gebunden': 4,\n 'jeden': 1,\n 'unternimmt': 1,\n 'beseitigen': 2,\n 'widerstand': 1,\n 'abhilfe': 1,\n 'möglich': 2,\n 'schützt': 1,\n 'künftigen': 2,\n 'generationen': 1,\n 'natürlichen': 1,\n 'lebensgrundlagen': 1,\n 'tiere': 1,\n 'verfassungsmäßigen': 2,\n '21': 2,\n 'parteien': 2,\n 'wirken': 4,\n 'willensbildung': 3,\n 'volks': 1,\n 'gründung': 1,\n 'innere': 1,\n 'entsprechen': 3,\n 'müssen': 8,\n 'verwendung': 1,\n 'vermögen': 10,\n 'öffentlich': 3,\n 'rechenschaft': 1,\n 'geben': 2,\n 'zielen': 1,\n 'verhalten': 1,\n 'anhänger': 1,\n 'darauf': 4,\n 'ausgehen': 1,\n 'gefährden': 3,\n 'verfassungswidrig': 3,\n 'frage': 2,\n 'verfassungswidrigkeit': 1,\n 'entscheidet': 10,\n 'regeln': 13,\n 'bundesgesetze': 18,\n 'bundesflagge': 1,\n 'schwarzrotgold': 1,\n 'verwirklichung': 1,\n 'europas': 1,\n 'rechtsstaatlichen': 1,\n 'sozialen': 3,\n 'föderativen': 1,\n 'grundsatz': 1,\n 'subsidiarität': 1,\n 'wesentlichen': 1,\n 'vergleichbaren': 1,\n 'grundrechtsschutz': 1,\n 'hierzu': 3,\n 'hoheitsrechte': 4,\n 'übertragen': 21,\n 'begründung': 1,\n 'änderungen': 4,\n 'vertraglichen': 1,\n 'grundlagen': 3,\n 'vergleichbare': 1,\n 'regelungen': 5,\n 'ergänzt': 2,\n 'solche': 6,\n 'ergänzungen': 1,\n 'ermöglicht': 1,\n '79': 3,\n 'angelegenheiten': 14,\n 'bundesrat': 39,\n 'umfassend': 1,\n 'frühestmöglichen': 1,\n ...}"
          },
          "metadata": {}
        }
      ]
    },
    {
      "cell_type": "markdown",
      "source": "## Worthäufigkeiten sortieren",
      "metadata": {
        "tags": [],
        "cell_id": "00071-a4b479f5-6ab7-45d2-b7c7-f78cf7464981",
        "deepnote_cell_type": "markdown"
      }
    },
    {
      "cell_type": "code",
      "metadata": {
        "tags": [],
        "cell_id": "00074-74a226fa-f156-452e-bbc1-9abcaaeea026",
        "deepnote_to_be_reexecuted": false,
        "source_hash": "a52d2c5e",
        "execution_millis": 2,
        "execution_start": 1614336641732,
        "deepnote_cell_type": "code"
      },
      "source": "def freq_sort(list_to_search):\n    counts = counter_dict(list_to_search)\n    counts = [(counts[key], key) for key in counts]\n    counts.sort()\n    counts.reverse()\n    return counts",
      "execution_count": null,
      "outputs": []
    },
    {
      "cell_type": "code",
      "metadata": {
        "tags": [],
        "cell_id": "00075-06421bcc-4c6d-4eec-8b21-3d9da0057beb",
        "deepnote_to_be_reexecuted": false,
        "source_hash": "b647a96b",
        "execution_millis": 11,
        "execution_start": 1614336647992,
        "deepnote_cell_type": "code"
      },
      "source": "freq_sort(grundgesetz_words)[:25]",
      "execution_count": null,
      "outputs": [
        {
          "output_type": "execute_result",
          "execution_count": 14,
          "data": {
            "text/plain": "[(932, 'der'),\n (859, 'die'),\n (577, 'und'),\n (495, 'des'),\n (303, 'das'),\n (283, 'den'),\n (269, 'oder'),\n (263, 'artikel'),\n (241, 'in'),\n (219, '1'),\n (207, 'werden'),\n (201, '2'),\n (192, 'zu'),\n (189, 'von'),\n (176, 'durch'),\n (162, 'für'),\n (160, 'ist'),\n (154, 'auf'),\n (139, 'dem'),\n (134, 'nach'),\n (132, 'im'),\n (131, '3'),\n (128, 'mit'),\n (123, 'kann'),\n (120, 'nicht')]"
          },
          "metadata": {}
        }
      ]
    },
    {
      "cell_type": "markdown",
      "source": "## Entfernen von Stoppwörtern",
      "metadata": {
        "tags": [],
        "cell_id": "00074-5e2cc49d-2605-41c2-829e-1bbc4da9aa32",
        "deepnote_cell_type": "markdown"
      }
    },
    {
      "cell_type": "code",
      "metadata": {
        "tags": [],
        "cell_id": "00077-ef5cc163-3bff-463b-be25-e16f8d2ea79f",
        "deepnote_to_be_reexecuted": false,
        "source_hash": "6adab9a",
        "execution_millis": 1,
        "execution_start": 1614336804094,
        "deepnote_cell_type": "code"
      },
      "source": "def remove_stopwords(list_to_search):\n    stopword_url = \"http://members.unine.ch/jacques.savoy/clef/germanST.txt\"\n    response = requests.get(stopword_url)\n    stopwords = response.text\n    stopwords = stopwords.split()\n    return [w for w in list_to_search if w not in stopwords]",
      "execution_count": null,
      "outputs": []
    },
    {
      "cell_type": "code",
      "metadata": {
        "tags": [],
        "cell_id": "00078-c6a405d1-b48f-4354-98f9-258d1d0782ed",
        "deepnote_to_be_reexecuted": false,
        "source_hash": "4c78cf98",
        "execution_millis": 320,
        "execution_start": 1614336832881,
        "deepnote_cell_type": "code"
      },
      "source": "remove_stopwords(grundgesetz_words)[:25]",
      "execution_count": null,
      "outputs": [
        {
          "output_type": "execute_result",
          "execution_count": 18,
          "data": {
            "text/plain": "['grundgesetz',\n 'bundesrepublik',\n 'deutschland',\n '23',\n 'mai',\n '1949',\n 'bgbl',\n '1',\n 'zuletzt',\n 'geändert',\n 'gesetz',\n 'änderung',\n 'grundgesetzes',\n 'artikel',\n '96',\n '26',\n '7',\n '2002',\n 'bgbl',\n '2863',\n 'parlamentarische',\n 'rat',\n '23',\n 'mai',\n '1949']"
          },
          "metadata": {}
        }
      ]
    },
    {
      "cell_type": "markdown",
      "source": "## Entfernen von Zahlen mit regulärem Ausdruck",
      "metadata": {
        "tags": [],
        "cell_id": "00079-1de3a64d-0973-4454-97b7-fc3d0e97b6c7",
        "deepnote_cell_type": "markdown"
      }
    },
    {
      "cell_type": "code",
      "metadata": {
        "tags": [],
        "cell_id": "00080-993c261b-8983-459b-bba9-a634812e734f",
        "deepnote_to_be_reexecuted": false,
        "source_hash": "feeb8088",
        "execution_start": 1614340517361,
        "execution_millis": 1,
        "deepnote_cell_type": "code"
      },
      "source": "import re\n\nRE_INT = re.compile(r'\\d+')\n\ndef remove_digit(text):\n    return re.sub(RE_INT, '', text)",
      "execution_count": null,
      "outputs": []
    },
    {
      "cell_type": "markdown",
      "source": "## Funktionsaufrufe",
      "metadata": {
        "tags": [],
        "cell_id": "00079-c15b80d4-9813-4aa7-8803-5979f04800d7",
        "deepnote_cell_type": "markdown"
      }
    },
    {
      "cell_type": "code",
      "metadata": {
        "tags": [],
        "cell_id": "00079-ed997315-1eab-4de0-b23d-36280108cd85",
        "deepnote_to_be_reexecuted": false,
        "source_hash": "de471d69",
        "execution_millis": 640,
        "execution_start": 1614340554139,
        "deepnote_cell_type": "code"
      },
      "source": "grundgesetz = grundgesetz.lower()\ngrundgesetz = remove_punctuation(grundgesetz)\ngrundgesetz = remove_digit(grundgesetz)\ngrundgesetz_words = grundgesetz.split()\ngrundgesetz_words = remove_stopwords(grundgesetz_words)\nfreq_sort(grundgesetz_words)[:25]",
      "execution_count": null,
      "outputs": [
        {
          "output_type": "execute_result",
          "execution_count": 43,
          "data": {
            "text/plain": "[(263, 'artikel'),\n (112, 'länder'),\n (99, 'absatz'),\n (96, 'zustimmung'),\n (95, 'bundesrates'),\n (85, 'bund'),\n (84, 'bundesregierung'),\n (80, 'soweit'),\n (78, 'bundesgesetz'),\n (73, 'bundes'),\n (65, 'gesetz'),\n (58, 'bundestages'),\n (57, 'ländern'),\n (55, 'bundestag'),\n (46, 'bedarf'),\n (43, 'satz'),\n (42, 'gemeinden'),\n (41, 'mehrheit'),\n (39, 'gesetze'),\n (39, 'bundesrat'),\n (39, 'bestimmt'),\n (38, 'grund'),\n (37, 'mitglieder'),\n (36, 'nähere'),\n (35, 'landes')]"
          },
          "metadata": {}
        }
      ]
    },
    {
      "cell_type": "markdown",
      "source": "# Block 7: NLTK und Worthäufigkeiten visualisieren\n\n## collections",
      "metadata": {
        "tags": [],
        "cell_id": "00081-c66ae3b2-94bd-42c9-b8c9-437efb4de4da",
        "deepnote_cell_type": "markdown"
      }
    },
    {
      "cell_type": "code",
      "metadata": {
        "tags": [],
        "cell_id": "00082-d5370b48-b7ee-4a56-8b9f-44e2339cfe27",
        "deepnote_to_be_reexecuted": false,
        "source_hash": "e838d391",
        "execution_millis": 0,
        "execution_start": 1614340576625,
        "deepnote_cell_type": "code"
      },
      "source": "from collections import Counter\n\nfreq = Counter(grundgesetz_words)",
      "execution_count": null,
      "outputs": []
    },
    {
      "cell_type": "code",
      "metadata": {
        "tags": [],
        "cell_id": "00083-8ed32b41-8d95-4900-93fe-c92d7d4ab615",
        "deepnote_to_be_reexecuted": false,
        "source_hash": "cfa9e78",
        "execution_start": 1614337116960,
        "execution_millis": 15,
        "deepnote_cell_type": "code"
      },
      "source": "type(freq)",
      "execution_count": null,
      "outputs": [
        {
          "output_type": "execute_result",
          "execution_count": 21,
          "data": {
            "text/plain": "collections.Counter"
          },
          "metadata": {}
        }
      ]
    },
    {
      "cell_type": "code",
      "metadata": {
        "tags": [],
        "cell_id": "00081-a0386e29-75a3-40d1-9264-ef6ccf90198a",
        "deepnote_to_be_reexecuted": false,
        "source_hash": "fea95fed",
        "execution_millis": 11,
        "execution_start": 1614337134290,
        "deepnote_cell_type": "code"
      },
      "source": "freq.most_common(25)",
      "execution_count": null,
      "outputs": [
        {
          "output_type": "execute_result",
          "execution_count": 22,
          "data": {
            "text/plain": "[('artikel', 263),\n ('1', 219),\n ('2', 201),\n ('3', 131),\n ('länder', 112),\n ('absatz', 98),\n ('zustimmung', 96),\n ('bundesrates', 95),\n ('bund', 85),\n ('bundesregierung', 84),\n ('soweit', 80),\n ('bundesgesetz', 78),\n ('bundes', 73),\n ('gesetz', 65),\n ('4', 65),\n ('bundestages', 58),\n ('ländern', 57),\n ('bundestag', 55),\n ('bedarf', 46),\n ('satz', 43),\n ('gemeinden', 42),\n ('mehrheit', 41),\n ('5', 39),\n ('gesetze', 39),\n ('bestimmt', 39)]"
          },
          "metadata": {}
        }
      ]
    },
    {
      "cell_type": "markdown",
      "source": "## NLTK",
      "metadata": {
        "tags": [],
        "cell_id": "00084-b6d36f7f-4bc3-4e2b-a2a6-ab451712d984",
        "deepnote_cell_type": "markdown"
      }
    },
    {
      "cell_type": "code",
      "metadata": {
        "tags": [],
        "cell_id": "00084-d06b6432-596e-4a26-8708-774ebdb27078",
        "deepnote_to_be_reexecuted": false,
        "source_hash": "7c8c3232",
        "execution_millis": 564,
        "execution_start": 1616767932152,
        "deepnote_cell_type": "code"
      },
      "source": "import nltk\nfrom nltk.tokenize import word_tokenize\nnltk.download('punkt')\n\nwith open('grundgesetz.txt', 'r', encoding='utf-8') as infile:\n    text_raw = infile.read()\n\ntext = text_raw.lower()\ntext = word_tokenize(text)\ntext = nltk.Text(text) ",
      "execution_count": null,
      "outputs": [
        {
          "name": "stderr",
          "text": "[nltk_data] Downloading package punkt to /root/nltk_data...\n[nltk_data]   Unzipping tokenizers/punkt.zip.\n",
          "output_type": "stream"
        }
      ]
    },
    {
      "cell_type": "markdown",
      "source": "## concordance",
      "metadata": {
        "tags": [],
        "cell_id": "00086-eafbedf2-f805-4a4d-ae59-5818b95d8f83",
        "deepnote_cell_type": "markdown"
      }
    },
    {
      "cell_type": "code",
      "metadata": {
        "tags": [],
        "cell_id": "00087-86489a12-21bd-44ea-924b-405a525e67b8",
        "deepnote_to_be_reexecuted": false,
        "source_hash": "13cc28bd",
        "execution_millis": 21,
        "execution_start": 1616767940769,
        "deepnote_cell_type": "code"
      },
      "source": "text.concordance(\"bund\", width=110)",
      "execution_count": null,
      "outputs": [
        {
          "name": "stdout",
          "text": "Displaying 25 of 85 matches:\nartikel 10 absatz 2 satz 2 bleibt unberührt . ii der bund und die länder artikel 20 ( 1 ) die bundesrepublik d\nvergleichbaren grundrechtsschutz gewährleistet . der bund kann hierzu durch gesetz mit zustimmung des bundesra\nn der länder berührt sind oder soweit im übrigen der bund das recht zur gesetzgebung hat , berücksichtigt die \n ausgabenerhöhungen oder einnahmeminderungen für den bund führen können , ist die zustimmung der bundesregieru\n mitgliedstaat der europäischen union zustehen , vom bund auf einen vom bundesrat benannten vertreter der länd\nimmung des bundesrates bedarf . artikel 24 ( 1 ) der bund kann durch gesetz hoheitsrechte auf zwischenstaatlic\nhbarschaftliche einrichtungen übertragen . ( 2 ) der bund kann sich zur wahrung des friedens einem system gege\nregelung zwischenstaatlicher streitigkeiten wird der bund vereinbarungen über eine allgemeine , umfassende , o\nde wirtschaftskraftbezogene steuerquelle . ( 3 ) der bund gewährleistet , daß die verfassungsmäßige ordnung de\n3. artikel 59 ( 1 ) der bundespräsident vertritt den bund völkerrechtlich . er schließt im namen des bundes di\ns bestimmt ist . ( 2 ) er übt im einzelfalle für den bund das begnadigungsrecht aus . ( 3 ) er kann diese befu\nht . ( 2 ) die abgrenzung der zuständigkeit zwischen bund und ländern bemißt sich nach den vorschriften dieses\ne befugnis zur gesetzgebung , solange und soweit der bund von seiner gesetzgebungszuständigkeit nicht durch ge\n nicht durch gesetz gebrauch gemacht hat . ( 2 ) der bund hat in diesem bereich das gesetzgebungsrecht , wenn \nrch landesrecht ersetzt werden kann . artikel 73 der bund hat die ausschließliche gesetzgebung über : 1. die a\ner zustimmung des bundesrates . artikel 75 ( 1 ) der bund hat das recht , unter den voraussetzungen des artike\nbar geltende regelungen enthalten . ( 3 ) erläßt der bund rahmenvorschriften , so sind die länder verpflichtet\ne zu allen behörden entsenden . artikel 86 führt der bund die gesetze durch bundeseigene verwaltung oder durch\nundestages errichtet werden . artikel 87 a ( 1 ) der bund stellt streitkräfte zur verteidigung auf . ihre zahl\ns eigene angelegenheit übertragen werden . ( 2 ) der bund nimmt die über den bereich der eisenbahnen des bunde\neit der anteile an diesen unternehmen verbleibt beim bund . das nähere wird durch bundesgesetz geregelt . ( 4 \n nähere wird durch bundesgesetz geregelt . ( 4 ) der bund gewährleistet , daß dem wohl der allgemeinheit , ins\nustimmung des bundesrates bedarf , gewährleistet der bund im bereich des postwesens und der telekommunikation \n . ( 3 ) unbeschadet des absatzes 2 satz 2 führt der bund in der rechtsform einer bundesunmittelbaren anstalt \nch maßgabe eines bundesgesetzes aus . artikel 88 der bund errichtet eine währungs- und notenbank als bundesban\n",
          "output_type": "stream"
        }
      ]
    },
    {
      "cell_type": "markdown",
      "source": "## similar",
      "metadata": {
        "tags": [],
        "cell_id": "00087-49759d5f-82e9-4da0-bc2a-24d419da581d",
        "deepnote_cell_type": "markdown"
      }
    },
    {
      "cell_type": "code",
      "metadata": {
        "tags": [],
        "cell_id": "00089-7d04c7ea-eedd-46e3-ae3d-c066dfab035b",
        "deepnote_to_be_reexecuted": false,
        "source_hash": "82a6444a",
        "execution_millis": 137,
        "execution_start": 1614337416593,
        "deepnote_cell_type": "code"
      },
      "source": "text.similar(\"freiheit\")",
      "execution_count": null,
      "outputs": [
        {
          "name": "stdout",
          "text": "bestimmungen gesetzgebung stelle grundsätze zustimmung mitglieder die\nvon feststellung artikel vor einheit grundrechte würde rechte aus\nvorschriften pflege fürsorge teilnahme\n",
          "output_type": "stream"
        }
      ]
    },
    {
      "cell_type": "markdown",
      "source": "## dispersion plot",
      "metadata": {
        "tags": [],
        "cell_id": "00088-ff80da02-4416-455a-859f-150a65873b81",
        "deepnote_cell_type": "markdown"
      }
    },
    {
      "cell_type": "code",
      "metadata": {
        "tags": [],
        "cell_id": "00091-a005c800-07be-41af-99cd-bd559428573c",
        "deepnote_to_be_reexecuted": false,
        "source_hash": "f3eb6548",
        "execution_millis": 99,
        "execution_start": 1614337481842,
        "deepnote_cell_type": "code"
      },
      "source": "text.dispersion_plot([\"artikel\", \"gesetz\", \"freiheit\", 'bundespräsident', 'bundeskanzler'])",
      "execution_count": null,
      "outputs": [
        {
          "data": {
            "text/plain": "<Figure size 432x288 with 1 Axes>",
            "image/png": "[encoded data removed]"
          },
          "metadata": {
            "needs_background": "light"
          },
          "output_type": "display_data"
        }
      ]
    },
    {
      "cell_type": "code",
      "metadata": {
        "tags": [],
        "cell_id": "00084-43b8a93e-5b10-4874-9b72-1944017e21a4",
        "deepnote_to_be_reexecuted": false,
        "source_hash": "bfc0ddb6",
        "execution_start": 1614340140529,
        "execution_millis": 22,
        "deepnote_cell_type": "code"
      },
      "source": "import pandas as pd\nimport seaborn as sns\nimport matplotlib.pyplot as plt",
      "execution_count": null,
      "outputs": []
    },
    {
      "cell_type": "code",
      "metadata": {
        "tags": [],
        "cell_id": "00085-5204ad18-3d96-41d9-bb41-8beb001420f5",
        "deepnote_to_be_reexecuted": false,
        "source_hash": "220d1464",
        "execution_millis": 1,
        "execution_start": 1614340589538,
        "deepnote_cell_type": "code"
      },
      "source": "df = pd.DataFrame(freq.items(), columns=['word', 'count'])\ndf = df.sort_values(by='count', ascending=False)\ndf_top_25 = df.head(25)",
      "execution_count": null,
      "outputs": []
    },
    {
      "cell_type": "code",
      "metadata": {
        "tags": [],
        "cell_id": "00089-4725b378-7779-4ce3-bd5a-7c8c7d7b9073",
        "deepnote_to_be_reexecuted": false,
        "source_hash": "32fd5c84",
        "execution_millis": 365,
        "execution_start": 1614340829433,
        "deepnote_cell_type": "code"
      },
      "source": "fig, ax = plt.subplots(figsize=(12,8))\n\nsns.barplot(x='word', y='count', data=df_top_25, ax=ax)\nax.set_xticklabels(labels=df_top_25.loc[:, 'word'], rotation=45, ha='right');",
      "execution_count": null,
      "outputs": [
        {
          "data": {
            "text/plain": "<Figure size 864x576 with 1 Axes>",
            "image/png": "[encoded data removed]"
          },
          "metadata": {
            "needs_background": "light"
          },
          "output_type": "display_data"
        }
      ]
    },
    {
      "cell_type": "markdown",
      "source": "# Block 8: Web Scraping\n\n## Ziel des Web Scraping\n\n* Posts vom Blog der AG Digitale Geschichtswissenschaft bei hypotheses.org\n* [https://digigw.hypotheses.org/](https://digigw.hypotheses.org/)\n\n## Zutaten für das Skript\n\n* Webseite aufrufen\n* html erfassen\n* html parsen\n* Text extrahieren\n* Text in Datei speichern\n* Datei benennen\n\n## Inspektion der Webseite\n\n* Gibt es eine serielle URL?\n* Wie ist diese aufgebaut?\n* In welchem html-div findet sich Text?\n\n## serielle URL\n\n[https://digigw.hypotheses.org/3653](https://digigw.hypotheses.org/3653)\n\n## Webseiten Inspektor\n\n**STRG + SHIFT + I**\n\n<!-- ## Ansicht Inspektor\n\n<img src=\"\n../images/snapshot_inspector.png\" alt=\"Drawing\" style=\"width:\n700px;\"/> -->\n\n## Bausteine des Skripts I\n\n* Import der benötigten Module und Bibliotheken\n* URL-Root einrichten Variablen benennen\n* Startseite bzw. Indexseite anfragen\n* html in Variable speichern\n* IDs der Blogposts aus html extrahieren\n* IDs der Blogposts in Liste speichern\n* for-Schleife zur wiederholten Anwendung\n\n## Bausteine des Skripts II\n\n* aus der Liste der IDs URL zusammensetzen und anfragen\n* html in Variable speichern\n* Text des Posts aus html extrahieren\n* Text in Datei speichern\n* for-Schleife zur wiederholten Anwendung\n\n## Import der Module",
      "metadata": {
        "tags": [],
        "cell_id": "00089-99357d9c-f7cf-49ce-baa8-15164ca54082",
        "deepnote_cell_type": "markdown"
      }
    },
    {
      "cell_type": "code",
      "metadata": {
        "tags": [],
        "cell_id": "00093-c01b49b3-f4dc-4926-8f97-b9db0cb4c4b1",
        "deepnote_to_be_reexecuted": false,
        "source_hash": "8dc8df12",
        "execution_millis": 35,
        "execution_start": 1614338279422,
        "deepnote_cell_type": "code"
      },
      "source": "import requests\nimport time\nfrom bs4 import BeautifulSoup",
      "execution_count": null,
      "outputs": []
    },
    {
      "cell_type": "markdown",
      "source": "## URL-Root und Variablen",
      "metadata": {
        "tags": [],
        "cell_id": "00093-f1e7ad96-013d-4a94-ba24-953b951b0ffb",
        "deepnote_cell_type": "markdown"
      }
    },
    {
      "cell_type": "code",
      "metadata": {
        "tags": [],
        "cell_id": "00095-4cfa01a8-f477-460f-86bf-671beae311dd",
        "deepnote_to_be_reexecuted": false,
        "source_hash": "6536c82f",
        "execution_millis": 1,
        "execution_start": 1614338293730,
        "deepnote_cell_type": "code"
      },
      "source": "url_root = 'https://digigw.hypotheses.org/'\nblog_ID_list = []\narticle_length_list = []",
      "execution_count": null,
      "outputs": []
    },
    {
      "cell_type": "markdown",
      "source": "## Schleife IDs",
      "metadata": {
        "tags": [],
        "cell_id": "00095-7ab89892-3933-46f0-a8ea-09bd3c8275fe",
        "deepnote_cell_type": "markdown"
      }
    },
    {
      "cell_type": "code",
      "metadata": {
        "tags": [],
        "cell_id": "00097-e058e267-d8b3-4ab8-9a96-3ff6348eb30e",
        "deepnote_to_be_reexecuted": false,
        "source_hash": "93268e4e",
        "execution_millis": 11051,
        "execution_start": 1614338608934,
        "deepnote_cell_type": "code"
      },
      "source": "for x in range(1,3):\n    url = url_root + 'page/' + str(x)\n\n    response = requests.get(url)\n    response = response.text\n    soup = BeautifulSoup(response, 'html.parser')\n\n    blog_IDs = soup.find_all('h2', {'class': 'entry-title'})  \n\n    for element in blog_IDs:\n        blog_ID = element.find('a')['href']\n        blog_ID = blog_ID.split('/')\n        blog_ID = blog_ID[3]\n        blog_ID_list.append(blog_ID)  \n\n    time.sleep(5)",
      "execution_count": null,
      "outputs": []
    },
    {
      "cell_type": "code",
      "metadata": {
        "tags": [],
        "cell_id": "00099-f206848e-7792-46ae-aed5-8c4cebaf2913",
        "deepnote_to_be_reexecuted": false,
        "source_hash": "3d0dffd8",
        "execution_start": 1614338675455,
        "execution_millis": 16,
        "deepnote_cell_type": "code"
      },
      "source": "blog_ID_list",
      "execution_count": null,
      "outputs": [
        {
          "output_type": "execute_result",
          "execution_count": 32,
          "data": {
            "text/plain": "['3658',\n '3668',\n '3673',\n '3664',\n '3679',\n '3683',\n '3688',\n '3692',\n '3721',\n '3698',\n '3712',\n '3705',\n '3658',\n '3653',\n '3650',\n '3645',\n '3640',\n '3635',\n '3607',\n '3592',\n '3550']"
          },
          "metadata": {}
        }
      ]
    },
    {
      "cell_type": "markdown",
      "source": "## Schleife Text",
      "metadata": {
        "tags": [],
        "cell_id": "00098-6e66ad59-8f6e-4a95-ae1a-5a502f54e71a",
        "deepnote_cell_type": "markdown"
      }
    },
    {
      "cell_type": "code",
      "metadata": {
        "tags": [],
        "cell_id": "00099-ae0c91b1-6f0d-434a-85d2-ee86bfb8a9c1",
        "deepnote_to_be_reexecuted": false,
        "source_hash": "b2c5fe9f",
        "execution_millis": 25857,
        "execution_start": 1614339074638,
        "deepnote_cell_type": "code"
      },
      "source": "# create new folder data-blog-posts\n\nfor x in blog_ID_list[:3]:  \n\n    try:\n        response = requests.get(url_root + str(x))\n        response = response.text \n        soup = BeautifulSoup(response, \"html.parser\")\n\n        article_text = soup.find(attrs={\"class\": \"entry-content\"}).text.strip()\n\n        article_length_list.append(len(article_text))\n\n        with open(r'./data-blog-posts/digigw-blog_' + str(x) + '.txt', 'w', encoding='utf-8') as infile: # create data-folder\n            infile.write(article_text)\n\n        time.sleep(8)\n\n    except:\n        continue",
      "execution_count": null,
      "outputs": []
    },
    {
      "cell_type": "markdown",
      "source": "## Ausgabe der Ergebnisse",
      "metadata": {
        "tags": [],
        "cell_id": "00100-9ccb8fd2-9d8e-4a3e-a5f9-537959ba5fca",
        "deepnote_cell_type": "markdown"
      }
    },
    {
      "cell_type": "code",
      "metadata": {
        "tags": [],
        "cell_id": "00099-184f8d9b-faae-42ff-ac52-f870c40963fb",
        "deepnote_to_be_reexecuted": false,
        "source_hash": "f28b10c0",
        "execution_millis": 12,
        "execution_start": 1614339146653,
        "deepnote_cell_type": "code"
      },
      "source": "print(blog_ID_list)\nprint('Gesamtanzahl der Blogbeiträge: ') \nprint(str(len(blog_ID_list)))\nprint('Anzahl der Zeichen des längsten Blogbeitrags: ')\nprint(str(max(article_length_list)))\nprint('Anzahl der Zeichen des kürzsten Blogbeitrags: ')\nprint(str(min(article_length_list)))\nprint('Anzahl der Zeichen der Blogbeiträge im Durchschnit: ')\nprint(str(sum(article_length_list) / len(article_length_list)))",
      "execution_count": null,
      "outputs": [
        {
          "name": "stdout",
          "text": "['3658', '3668', '3673', '3664', '3679', '3683', '3688', '3692', '3721', '3698', '3712', '3705', '3658', '3653', '3650', '3645', '3640', '3635', '3607', '3592', '3550']\nGesamtanzahl der Blogbeiträge: \n21\nAnzahl der Zeichen des längsten Blogbeitrags: \n3411\nAnzahl der Zeichen des kürzsten Blogbeitrags: \n2144\nAnzahl der Zeichen der Blogbeiträge im Durchschnit: \n2710.0\n",
          "output_type": "stream"
        }
      ]
    },
    {
      "cell_type": "markdown",
      "source": "# Block 9: Hilfe zur Selbsthilfe\n\n## Tutorials\n\n[learnpython.org](https://www.learnpython.org/)\n\n[https://realpython.com/](https://realpython.com/)\n\n[https://docs.python.org/3/tutorial/](https://docs.python.org/3/tutorial/)\n\n[https://www.python-kurs.eu/](https://www.python-kurs.eu/)\n\n[https://programminghistorian.org/lessons/?topic=python](https://programminghistorian.org/lessons/?topic=python)\n\n## Links\n\n[https://www.python.org/doc/](https://www.python.org/doc/)\n\n[https://www.python.org/community/](https://www.python.org/community/)\n\n[https://www.python-forum.de/](https://www.python-forum.de/)\n\n[https://stackoverflow.com/](https://stackoverflow.com/)\n\n## Bücher: Online\n\n[https://automatetheboringstuff.com/](https://automatetheboringstuff.com/)\n\n[https://www.nltk.org/book/](https://www.nltk.org/book/)\n\n## offene Fragen\n\n## Feedback-Runde\n\n## Zum Abschluss\n\n[What people think programming is vs. how it actually is](https://www.youtube.com/watch?v=HluANRwPyNo)",
      "metadata": {
        "tags": [],
        "cell_id": "00099-747cdd2a-0626-4b91-9ef7-787f438f1037",
        "deepnote_cell_type": "markdown"
      }
    },
    {
      "cell_type": "markdown",
      "source": "<a style='text-decoration:none;line-height:16px;display:flex;color:#5B5B62;padding:10px;justify-content:end;' href='https://deepnote.com?utm_source=created-in-deepnote-cell&projectId=892b4bdd-90fc-4d1c-b4de-511676ee6664' target=\"_blank\">\n<img style='display:inline;max-height:16px;margin:0px;margin-right:7.5px;' src='data:image/svg+xml;base64,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' > </img>\nCreated in <span style='font-weight:600;margin-left:4px;'>Deepnote</span></a>",
      "metadata": {
        "tags": [],
        "created_in_deepnote_cell": true,
        "deepnote_cell_type": "markdown"
      }
    }
  ],
  "nbformat": 4,
  "nbformat_minor": 2,
  "metadata": {
    "orig_nbformat": 2,
    "deepnote_notebook_id": "e4b9b9c4-4b29-4c78-bd53-e66469cc1a81",
    "deepnote": {},
    "deepnote_execution_queue": []
  }
}